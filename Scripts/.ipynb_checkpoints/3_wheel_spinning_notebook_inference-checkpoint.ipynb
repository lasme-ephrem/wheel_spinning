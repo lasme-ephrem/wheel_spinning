{
 "cells": [
  {
   "cell_type": "markdown",
   "id": "b60cd1f7",
   "metadata": {},
   "source": [
    "# <center>ALGORITHMES DE DETECTION DU WHEEL-SPINNING    *(EVIDENCE B)* : UN EXEMPLE D'INFERENCE SUR 5000 ELEVES ATTICUS A PARTIR DU MODELE PRE-ENTRAINE DU NOTEBOOK DE TRAINING<center/>"
   ]
  },
  {
   "cell_type": "markdown",
   "id": "acdf76fc",
   "metadata": {},
   "source": [
    "# Modules"
   ]
  },
  {
   "cell_type": "code",
   "execution_count": 1,
   "id": "04cfa1f6",
   "metadata": {},
   "outputs": [],
   "source": [
    "import numpy as np\n",
    "import pandas as pd\n",
    "import onnxruntime as rt\n",
    "from tensorflow.keras.models import load_model\n",
    "from tensorflow.keras.preprocessing.sequence import pad_sequences "
   ]
  },
  {
   "cell_type": "markdown",
   "id": "5c1002e0",
   "metadata": {},
   "source": [
    "# Preprocessing des données à tester"
   ]
  },
  {
   "cell_type": "code",
   "execution_count": 2,
   "id": "7dcc077b",
   "metadata": {},
   "outputs": [],
   "source": [
    "def preprocessing_for_nn_inference(df):\n",
    "    \n",
    "    #preprocessing for timestep\n",
    "    df[\"minute\"] = pd.DatetimeIndex(df['ts']).minute\n",
    "    df[\"heure\"] = pd.DatetimeIndex(df['ts']).hour\n",
    "    df[\"jour\"] = pd.DatetimeIndex(df['ts']).day\n",
    "    df[\"mois\"] = pd.DatetimeIndex(df['ts']).month\n",
    "    df[\"annee\"] = pd.DatetimeIndex(df['ts']).year\n",
    "    df = df.drop(\"homepage\", axis = 1)\n",
    "\n",
    "    #preprocessing for matrix design\n",
    "    X = df[[\"heure\", \"duration\", \"score\"]].values  \n",
    "    liste_eleve = list(df[\"student_id\"].unique())\n",
    "    X_sequence = []\n",
    "    for eleve in liste_eleve:\n",
    "        d = df[(df[\"student_id\"] == eleve)]\n",
    "        liste_activite = list(d[\"activity_id\"].unique())\n",
    "        for activite in liste_activite:\n",
    "            d2 = d[d[\"activity_id\"] == activite]\n",
    "            une_sequence_X = d2[[\"heure\", \"duration\", \"score\"]].values\n",
    "            X_sequence.append(une_sequence_X)\n",
    "    X_seq = pad_sequences(X_sequence, maxlen=20, dtype=\"float32\", padding=\"post\", value = -10.)\n",
    "    \n",
    "    #normalization of testing dataset\n",
    "    test_reshape = X_seq.reshape(-1, X_seq.shape[-1])\n",
    "    colonnes = [\"col\" + str(i) for i in range(1, X_seq.shape[2] + 1)]\n",
    "    test_df = pd.DataFrame(test_reshape, columns = colonnes)\n",
    "    test_df_no_mask = test_df[test_df[\"col1\"] != -10]\n",
    "    \n",
    "    #chargement onnx de la normalisation sur les données d'entraînement\n",
    "    scaler = rt.InferenceSession(\"scaler.onnx\")\n",
    "    test_df_no_mask_norm = scaler.run(None, {'X': test_df_no_mask.values})[0]\n",
    "    test_df.iloc[test_df_no_mask.index,] = test_df_no_mask_norm\n",
    "    X_test = test_df.values.reshape(X_seq.shape)\n",
    "    \n",
    "    return X_test"
   ]
  },
  {
   "cell_type": "markdown",
   "id": "e32d3f68",
   "metadata": {},
   "source": [
    "# Acquisition des données à tester"
   ]
  },
  {
   "cell_type": "code",
   "execution_count": 3,
   "id": "2d1f15f8",
   "metadata": {},
   "outputs": [],
   "source": [
    "#chargement des données\n",
    "data = pd.read_csv(\"test_data_example.csv\")"
   ]
  },
  {
   "cell_type": "code",
   "execution_count": 4,
   "id": "05c974a1",
   "metadata": {},
   "outputs": [],
   "source": [
    "#chargement des données\n",
    "X_test = preprocessing_for_nn_inference(data)"
   ]
  },
  {
   "cell_type": "markdown",
   "id": "c77c36ee",
   "metadata": {},
   "source": [
    "# Chargement du modèle pré-entraîné et inférence"
   ]
  },
  {
   "cell_type": "code",
   "execution_count": 5,
   "id": "179134f1",
   "metadata": {},
   "outputs": [
    {
     "name": "stdout",
     "output_type": "stream",
     "text": [
      "Model: \"sequential_5\"\n",
      "_________________________________________________________________\n",
      "Layer (type)                 Output Shape              Param #   \n",
      "=================================================================\n",
      "masking_5 (Masking)          (None, 20, 3)             0         \n",
      "_________________________________________________________________\n",
      "lstm_10 (LSTM)               (None, 20, 64)            17408     \n",
      "_________________________________________________________________\n",
      "lstm_11 (LSTM)               (None, 32)                12416     \n",
      "_________________________________________________________________\n",
      "dense_5 (Dense)              (None, 1)                 33        \n",
      "=================================================================\n",
      "Total params: 29,857\n",
      "Trainable params: 29,857\n",
      "Non-trainable params: 0\n",
      "_________________________________________________________________\n",
      "None\n"
     ]
    }
   ],
   "source": [
    "#chargement du modèle préentrainé\n",
    "model = load_model('ws_model.h5')\n",
    "print(model.summary())"
   ]
  },
  {
   "cell_type": "markdown",
   "id": "7b7855ee",
   "metadata": {},
   "source": [
    "# Prédiction"
   ]
  },
  {
   "cell_type": "code",
   "execution_count": 6,
   "id": "3c57d1da",
   "metadata": {},
   "outputs": [
    {
     "name": "stdout",
     "output_type": "stream",
     "text": [
      "Wall time: 3.08 s\n"
     ]
    }
   ],
   "source": [
    "%%time\n",
    "y_pred = model.predict(X_test)\n",
    "prediction_class = np.where(y_pred > 0.5, 1, 0)"
   ]
  },
  {
   "cell_type": "markdown",
   "id": "58de9527",
   "metadata": {},
   "source": [
    "# Exportation des prédictions au format JSON"
   ]
  },
  {
   "cell_type": "code",
   "execution_count": 7,
   "id": "17f8a656",
   "metadata": {},
   "outputs": [
    {
     "name": "stderr",
     "output_type": "stream",
     "text": [
      "C:\\Users\\lasme\\AppData\\Local\\Temp/ipykernel_14492/4077744935.py:4: SettingWithCopyWarning: \n",
      "A value is trying to be set on a copy of a slice from a DataFrame.\n",
      "Try using .loc[row_indexer,col_indexer] = value instead\n",
      "\n",
      "See the caveats in the documentation: https://pandas.pydata.org/pandas-docs/stable/user_guide/indexing.html#returning-a-view-versus-a-copy\n",
      "  data_expor[\"wheel_spinning_proba\"] = y_pred\n"
     ]
    }
   ],
   "source": [
    "###### SCRIPT A CONTRÔLER DE PLUS PRÊT : vérifier le matching entre les prédictions obtenues et les ids de student, module, objectif, activité)\n",
    "#------------------------------------------------------------------------------------------------------------------\n",
    "data_expor = data.drop_duplicates([\"student_id\", \"activity_id\"])\n",
    "data_expor[\"wheel_spinning_proba\"] = y_pred\n",
    "data_expor[[\"module_id\", \"student_id\", \"objective_id\", \"activity_id\", \"exercise_id\", \"wheel_spinning_proba\"]].to_json(\"prediction.json\")"
   ]
  }
 ],
 "metadata": {
  "kernelspec": {
   "display_name": "Python 3 (ipykernel)",
   "language": "python",
   "name": "python3"
  },
  "language_info": {
   "codemirror_mode": {
    "name": "ipython",
    "version": 3
   },
   "file_extension": ".py",
   "mimetype": "text/x-python",
   "name": "python",
   "nbconvert_exporter": "python",
   "pygments_lexer": "ipython3",
   "version": "3.9.7"
  }
 },
 "nbformat": 4,
 "nbformat_minor": 5
}
