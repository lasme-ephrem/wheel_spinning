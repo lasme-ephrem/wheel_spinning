{
 "cells": [
  {
   "cell_type": "markdown",
   "id": "071767b2",
   "metadata": {},
   "source": [
    "# ALGORITHMES DE DETECTION DU WHEEL-SPINNING    *(EVIDENCE B)* : NOTEBOOK EXPERIMENTAL SUR L'APPLICATION ADAPTIV-FRACTION"
   ]
  },
  {
   "cell_type": "markdown",
   "id": "59c77057",
   "metadata": {},
   "source": [
    "## Modules"
   ]
  },
  {
   "cell_type": "markdown",
   "id": "79de4341",
   "metadata": {},
   "source": [
    "Gestion de répertoires systèmes :"
   ]
  },
  {
   "cell_type": "code",
   "execution_count": 1,
   "id": "ad8044b4",
   "metadata": {},
   "outputs": [],
   "source": [
    "import os"
   ]
  },
  {
   "cell_type": "markdown",
   "id": "e3eb7864",
   "metadata": {},
   "source": [
    "Analyse de données :"
   ]
  },
  {
   "cell_type": "code",
   "execution_count": 2,
   "id": "0f43d3f2",
   "metadata": {},
   "outputs": [],
   "source": [
    "import numpy as np\n",
    "import pandas as pd\n",
    "import matplotlib.pyplot as plt\n",
    "%matplotlib inline\n",
    "import seaborn as sns"
   ]
  },
  {
   "cell_type": "markdown",
   "id": "f49eda52",
   "metadata": {},
   "source": [
    "Preprocessing des données :"
   ]
  },
  {
   "cell_type": "code",
   "execution_count": 3,
   "id": "df1d89f2",
   "metadata": {},
   "outputs": [],
   "source": [
    "from sklearn.model_selection import train_test_split\n",
    "from sklearn.preprocessing import StandardScaler, MinMaxScaler"
   ]
  },
  {
   "cell_type": "markdown",
   "id": "200d0a05",
   "metadata": {},
   "source": [
    "Machine learning (Deep learning) :"
   ]
  },
  {
   "cell_type": "code",
   "execution_count": 4,
   "id": "48c8f310",
   "metadata": {},
   "outputs": [],
   "source": [
    "from tensorflow.keras.models import Sequential\n",
    "from tensorflow.keras.layers import Dense\n",
    "from tensorflow.keras.layers import LSTM\n",
    "from tensorflow.keras.layers import Dropout\n",
    "from tensorflow.keras.layers import Masking\n",
    "from tensorflow.keras.preprocessing.sequence import pad_sequences "
   ]
  },
  {
   "cell_type": "markdown",
   "id": "465bc014",
   "metadata": {},
   "source": [
    "Teste si mon GPU est actif pour tensorflow :"
   ]
  },
  {
   "cell_type": "code",
   "execution_count": 5,
   "id": "7a8982ce",
   "metadata": {},
   "outputs": [
    {
     "data": {
      "text/plain": [
       "[PhysicalDevice(name='/physical_device:CPU:0', device_type='CPU'),\n",
       " PhysicalDevice(name='/physical_device:GPU:0', device_type='GPU')]"
      ]
     },
     "execution_count": 5,
     "metadata": {},
     "output_type": "execute_result"
    }
   ],
   "source": [
    "import tensorflow as tf\n",
    "tf.config.list_physical_devices(device_type=None)"
   ]
  },
  {
   "cell_type": "markdown",
   "id": "c44a7a99",
   "metadata": {},
   "source": [
    "Metriques :"
   ]
  },
  {
   "cell_type": "code",
   "execution_count": 6,
   "id": "9b719667",
   "metadata": {},
   "outputs": [],
   "source": [
    "from sklearn.metrics import precision_score, recall_score \n",
    "from sklearn.metrics import roc_curve, auc, confusion_matrix, precision_recall_curve, average_precision_score\n",
    "from tensorflow.keras.metrics import Recall, Precision"
   ]
  },
  {
   "cell_type": "markdown",
   "id": "44d1c58b",
   "metadata": {},
   "source": [
    "## Récupération des données"
   ]
  },
  {
   "cell_type": "markdown",
   "id": "0689479c",
   "metadata": {},
   "source": [
    "Fonction de récupération automatique des donnéees :"
   ]
  },
  {
   "cell_type": "code",
   "execution_count": 7,
   "id": "766f716e",
   "metadata": {},
   "outputs": [],
   "source": [
    "DUMP_ROOT = \"https://raw.githubusercontent.com/EvidenceB/wheel-spinning/main/Datasets/dump.csv\"\n",
    "GITHUB_TOKEN = \"token=ANA3ZLFD4DLR3I3D454JAO3BH2JGC\"\n",
    "DUMP_URL = DUMP_ROOT + \"?\" + GITHUB_TOKEN\n",
    "\n",
    "def fetch_data(dump_url = DUMP_URL):\n",
    "    \n",
    "    if not os.path.isdir(\"Datasets\"):\n",
    "        os.makedirs(\"Datasets\")\n",
    "        df = pd.read_csv(dump_url)\n",
    "        df.to_csv(\"Datasets/dump.csv\", index=False)\n",
    "        return df\n",
    "        \n",
    "    else:\n",
    "        return pd.read_csv(\"Datasets/dump.csv\")"
   ]
  },
  {
   "cell_type": "markdown",
   "id": "dc9e9aeb",
   "metadata": {},
   "source": [
    "Récupération des données et affichage :"
   ]
  },
  {
   "cell_type": "code",
   "execution_count": 8,
   "id": "71e5d89c",
   "metadata": {},
   "outputs": [],
   "source": [
    "df = fetch_data()"
   ]
  },
  {
   "cell_type": "markdown",
   "id": "eeead79d",
   "metadata": {},
   "source": [
    "Affichons lui ses cinq premières observations :"
   ]
  },
  {
   "cell_type": "code",
   "execution_count": 9,
   "id": "9a42a313",
   "metadata": {},
   "outputs": [
    {
     "data": {
      "text/html": [
       "<div>\n",
       "<style scoped>\n",
       "    .dataframe tbody tr th:only-of-type {\n",
       "        vertical-align: middle;\n",
       "    }\n",
       "\n",
       "    .dataframe tbody tr th {\n",
       "        vertical-align: top;\n",
       "    }\n",
       "\n",
       "    .dataframe thead th {\n",
       "        text-align: right;\n",
       "    }\n",
       "</style>\n",
       "<table border=\"1\" class=\"dataframe\">\n",
       "  <thead>\n",
       "    <tr style=\"text-align: right;\">\n",
       "      <th></th>\n",
       "      <th>student_id</th>\n",
       "      <th>homepage</th>\n",
       "      <th>exercise_id</th>\n",
       "      <th>score</th>\n",
       "      <th>duration</th>\n",
       "      <th>activity_id</th>\n",
       "      <th>objective_id</th>\n",
       "      <th>module_id</th>\n",
       "      <th>ts</th>\n",
       "    </tr>\n",
       "  </thead>\n",
       "  <tbody>\n",
       "    <tr>\n",
       "      <th>0</th>\n",
       "      <td>4b2a858ec19a4062868f92ce0ff7c8bb</td>\n",
       "      <td>http://xapiressource.prod.evidenceb-services.c...</td>\n",
       "      <td>1a705a1f-71e7-4262-af24-e8fce1259d19</td>\n",
       "      <td>1.0</td>\n",
       "      <td>15</td>\n",
       "      <td>d48a123d-827c-4b50-8102-62361be549ba</td>\n",
       "      <td>8f6c4c01-734e-4f69-8e7a-fe5c066fe342</td>\n",
       "      <td>1b0ed844-31bb-4fc6-94e8-2df42b78271e</td>\n",
       "      <td>2021-05-19 14:10:38.859000+00:00</td>\n",
       "    </tr>\n",
       "    <tr>\n",
       "      <th>1</th>\n",
       "      <td>e5434ff321954840a17283fa7033dd04</td>\n",
       "      <td>http://xapiressource.prod.evidenceb-services.c...</td>\n",
       "      <td>1a705a1f-71e7-4262-af24-e8fce1259d19</td>\n",
       "      <td>1.0</td>\n",
       "      <td>15</td>\n",
       "      <td>d48a123d-827c-4b50-8102-62361be549ba</td>\n",
       "      <td>8f6c4c01-734e-4f69-8e7a-fe5c066fe342</td>\n",
       "      <td>1b0ed844-31bb-4fc6-94e8-2df42b78271e</td>\n",
       "      <td>2021-05-19 14:10:38.859000+00:00</td>\n",
       "    </tr>\n",
       "    <tr>\n",
       "      <th>2</th>\n",
       "      <td>d3b148ffa8b64d50a443ccf8c78dd98b</td>\n",
       "      <td>http://xapiressource.prod.evidenceb-services.c...</td>\n",
       "      <td>1a705a1f-71e7-4262-af24-e8fce1259d19</td>\n",
       "      <td>1.0</td>\n",
       "      <td>15</td>\n",
       "      <td>d48a123d-827c-4b50-8102-62361be549ba</td>\n",
       "      <td>8f6c4c01-734e-4f69-8e7a-fe5c066fe342</td>\n",
       "      <td>1b0ed844-31bb-4fc6-94e8-2df42b78271e</td>\n",
       "      <td>2021-05-19 14:10:38.859000+00:00</td>\n",
       "    </tr>\n",
       "    <tr>\n",
       "      <th>3</th>\n",
       "      <td>889fd436c9ae46a08922ee496346590a</td>\n",
       "      <td>http://xapiressource.prod.evidenceb-services.c...</td>\n",
       "      <td>1a705a1f-71e7-4262-af24-e8fce1259d19</td>\n",
       "      <td>1.0</td>\n",
       "      <td>15</td>\n",
       "      <td>d48a123d-827c-4b50-8102-62361be549ba</td>\n",
       "      <td>8f6c4c01-734e-4f69-8e7a-fe5c066fe342</td>\n",
       "      <td>1b0ed844-31bb-4fc6-94e8-2df42b78271e</td>\n",
       "      <td>2021-05-19 14:10:38.859000+00:00</td>\n",
       "    </tr>\n",
       "    <tr>\n",
       "      <th>4</th>\n",
       "      <td>cd52708a4af34ebba045e64ecaf17eab</td>\n",
       "      <td>http://xapiressource.prod.evidenceb-services.c...</td>\n",
       "      <td>1a705a1f-71e7-4262-af24-e8fce1259d19</td>\n",
       "      <td>1.0</td>\n",
       "      <td>15</td>\n",
       "      <td>d48a123d-827c-4b50-8102-62361be549ba</td>\n",
       "      <td>8f6c4c01-734e-4f69-8e7a-fe5c066fe342</td>\n",
       "      <td>1b0ed844-31bb-4fc6-94e8-2df42b78271e</td>\n",
       "      <td>2021-05-19 14:10:38.859000+00:00</td>\n",
       "    </tr>\n",
       "  </tbody>\n",
       "</table>\n",
       "</div>"
      ],
      "text/plain": [
       "                         student_id  \\\n",
       "0  4b2a858ec19a4062868f92ce0ff7c8bb   \n",
       "1  e5434ff321954840a17283fa7033dd04   \n",
       "2  d3b148ffa8b64d50a443ccf8c78dd98b   \n",
       "3  889fd436c9ae46a08922ee496346590a   \n",
       "4  cd52708a4af34ebba045e64ecaf17eab   \n",
       "\n",
       "                                            homepage  \\\n",
       "0  http://xapiressource.prod.evidenceb-services.c...   \n",
       "1  http://xapiressource.prod.evidenceb-services.c...   \n",
       "2  http://xapiressource.prod.evidenceb-services.c...   \n",
       "3  http://xapiressource.prod.evidenceb-services.c...   \n",
       "4  http://xapiressource.prod.evidenceb-services.c...   \n",
       "\n",
       "                            exercise_id  score  duration  \\\n",
       "0  1a705a1f-71e7-4262-af24-e8fce1259d19    1.0        15   \n",
       "1  1a705a1f-71e7-4262-af24-e8fce1259d19    1.0        15   \n",
       "2  1a705a1f-71e7-4262-af24-e8fce1259d19    1.0        15   \n",
       "3  1a705a1f-71e7-4262-af24-e8fce1259d19    1.0        15   \n",
       "4  1a705a1f-71e7-4262-af24-e8fce1259d19    1.0        15   \n",
       "\n",
       "                            activity_id                          objective_id  \\\n",
       "0  d48a123d-827c-4b50-8102-62361be549ba  8f6c4c01-734e-4f69-8e7a-fe5c066fe342   \n",
       "1  d48a123d-827c-4b50-8102-62361be549ba  8f6c4c01-734e-4f69-8e7a-fe5c066fe342   \n",
       "2  d48a123d-827c-4b50-8102-62361be549ba  8f6c4c01-734e-4f69-8e7a-fe5c066fe342   \n",
       "3  d48a123d-827c-4b50-8102-62361be549ba  8f6c4c01-734e-4f69-8e7a-fe5c066fe342   \n",
       "4  d48a123d-827c-4b50-8102-62361be549ba  8f6c4c01-734e-4f69-8e7a-fe5c066fe342   \n",
       "\n",
       "                              module_id                                ts  \n",
       "0  1b0ed844-31bb-4fc6-94e8-2df42b78271e  2021-05-19 14:10:38.859000+00:00  \n",
       "1  1b0ed844-31bb-4fc6-94e8-2df42b78271e  2021-05-19 14:10:38.859000+00:00  \n",
       "2  1b0ed844-31bb-4fc6-94e8-2df42b78271e  2021-05-19 14:10:38.859000+00:00  \n",
       "3  1b0ed844-31bb-4fc6-94e8-2df42b78271e  2021-05-19 14:10:38.859000+00:00  \n",
       "4  1b0ed844-31bb-4fc6-94e8-2df42b78271e  2021-05-19 14:10:38.859000+00:00  "
      ]
     },
     "execution_count": 9,
     "metadata": {},
     "output_type": "execute_result"
    }
   ],
   "source": [
    "df.head()"
   ]
  },
  {
   "cell_type": "markdown",
   "id": "2c775daf",
   "metadata": {},
   "source": [
    "## Exploration et traitement du jeu de données"
   ]
  },
  {
   "cell_type": "markdown",
   "id": "9ba64970",
   "metadata": {},
   "source": [
    "Description du jeu de données :"
   ]
  },
  {
   "cell_type": "code",
   "execution_count": 10,
   "id": "e69ea990",
   "metadata": {},
   "outputs": [
    {
     "name": "stdout",
     "output_type": "stream",
     "text": [
      "<class 'pandas.core.frame.DataFrame'>\n",
      "RangeIndex: 91237 entries, 0 to 91236\n",
      "Data columns (total 9 columns):\n",
      " #   Column        Non-Null Count  Dtype  \n",
      "---  ------        --------------  -----  \n",
      " 0   student_id    91237 non-null  object \n",
      " 1   homepage      91237 non-null  object \n",
      " 2   exercise_id   91237 non-null  object \n",
      " 3   score         91237 non-null  float64\n",
      " 4   duration      91237 non-null  int64  \n",
      " 5   activity_id   91237 non-null  object \n",
      " 6   objective_id  91237 non-null  object \n",
      " 7   module_id     91237 non-null  object \n",
      " 8   ts            91237 non-null  object \n",
      "dtypes: float64(1), int64(1), object(7)\n",
      "memory usage: 6.3+ MB\n"
     ]
    }
   ],
   "source": [
    "df.info()"
   ]
  },
  {
   "cell_type": "markdown",
   "id": "38374ae5",
   "metadata": {},
   "source": [
    "- 91237 enregistrements d'interaction d'élèves réparties selon les applications d'EvidenceB\n",
    "- Aucune valeur manquante détectée \n",
    "- student_id : identifiant d'un éléve utilisant l'une des applications EvidenceB\n",
    "- homepage : adresse serveur prod web de l'application utilisée par l'élève\n",
    "- exercise_id : identifiiant d'un exercice réalisé par un élève\n",
    "- score : note entre 0 et 1 obtenue par un élève sur un exercice\n",
    "- activity_id : identifiant de l'activité concernée par un exercice dont l'identifiant figure sur la même ligne\n",
    "- objective_id : identifiant de l'objectif concerné par une activité dont l'identifiant figure sur la même ligne\n",
    "- module_id : identifiant du module concerné par un objectif dont l'identifiant figure sur la même ligne\n",
    "- ts : temps en aaaa-mm-jj hh:mm:ss à l'ouverture d'un exercice\n",
    "- duration : nombre de sécondes écoulées entre l'ouverture et la fermeture d'un exercice\n",
    "- Le jeu de données ne contient pas de target, nous allons devoir la construire"
   ]
  },
  {
   "cell_type": "code",
   "execution_count": 11,
   "id": "e0256207",
   "metadata": {},
   "outputs": [
    {
     "name": "stdout",
     "output_type": "stream",
     "text": [
      "Répartition selon les applications (adresse prod web) :\n"
     ]
    },
    {
     "data": {
      "text/plain": [
       "http://xapiressource.prod.evidenceb-services.com/homepages/adfrac/p3                 50861\n",
       "http://xapiressource.prod.evidenceb-services.com/homepages/adlatin/my-atticus        15340\n",
       "http://xapiressource.prod.evidenceb-services.com/homepages/adlatin/atticus-scuola     8248\n",
       "http://xapiressource.prod.evidenceb-services.com/homepages/adlang/idfpro              8041\n",
       "http://xapiressource.prod.evidenceb-services.com/homepages/adlatin/atticus            5901\n",
       "http://xapiressource.prod.evidenceb-services.com/homepages/adlang/idfLGT              2698\n",
       "http://xapiressource.prod.evidenceb-services.com/homepages/adfrac/fr                    95\n",
       "http://xapiressource.prod.evidenceb-services.com/exercise/atticus/default/main          53\n",
       "Name: homepage, dtype: int64"
      ]
     },
     "execution_count": 11,
     "metadata": {},
     "output_type": "execute_result"
    }
   ],
   "source": [
    "print(\"Répartition selon les applications (adresse prod web) :\")\n",
    "df[\"homepage\"].value_counts()"
   ]
  },
  {
   "cell_type": "markdown",
   "id": "52c90cc3",
   "metadata": {},
   "source": [
    "Décomposition du timestamp en JJ, MM, AAAA, HH, MM, SS :"
   ]
  },
  {
   "cell_type": "code",
   "execution_count": 12,
   "id": "3890774e",
   "metadata": {},
   "outputs": [],
   "source": [
    "df[\"minute\"] = pd.DatetimeIndex(df['ts']).minute\n",
    "df[\"heure\"] = pd.DatetimeIndex(df['ts']).hour\n",
    "df[\"jour\"] = pd.DatetimeIndex(df['ts']).day\n",
    "df[\"mois\"] = pd.DatetimeIndex(df['ts']).month\n",
    "df[\"annee\"] = pd.DatetimeIndex(df['ts']).year"
   ]
  },
  {
   "cell_type": "markdown",
   "id": "8e1e3d85",
   "metadata": {},
   "source": [
    "Extraction des applications :"
   ]
  },
  {
   "cell_type": "code",
   "execution_count": 13,
   "id": "f665c2cf",
   "metadata": {},
   "outputs": [],
   "source": [
    "df_adfrac = df[df[\"homepage\"] == \"http://xapiressource.prod.evidenceb-services.com/homepages/adfrac/p3\"]\n",
    "df_adlatin_atticus = df[df[\"homepage\"] == \"http://xapiressource.prod.evidenceb-services.com/homepages/adlatin/atticus\"]\n",
    "df_adlatin_atticus_scuola = df[df[\"homepage\"] == \"http://xapiressource.prod.evidenceb-services.com/homepages/adlatin/atticus-scuola\"]\n",
    "df_adlatin_my_atticus = df[df[\"homepage\"] == \"http://xapiressource.prod.evidenceb-services.com/homepages/adlatin/my-atticus\"]\n",
    "df_adlang_lgt = df[df[\"homepage\"] == \"http://xapiressource.prod.evidenceb-services.com/homepages/adlang/idfLGT\"]\n",
    "df_adlang_pro = df[df[\"homepage\"] == \"http://xapiressource.prod.evidenceb-services.com/homepages/adlang/idfpro\"]\n",
    "\n",
    "def homepage_del(df):\n",
    "    return df.drop(\"homepage\", axis = 1)\n",
    "\n",
    "df_adfrac = homepage_del(df_adfrac)\n",
    "df_adlatin_atticus = homepage_del(df_adlatin_atticus)\n",
    "df_adlatin_atticus_scuola = homepage_del(df_adlatin_atticus_scuola)\n",
    "df_adlatin_my_atticus = homepage_del(df_adlatin_my_atticus)\n",
    "df_adlang_lgt =homepage_del(df_adlang_lgt)\n",
    "df_adlang_pro = homepage_del(df_adlang_pro)"
   ]
  },
  {
   "cell_type": "markdown",
   "id": "2b2a031b",
   "metadata": {},
   "source": [
    "Pour la suite nous travaillons sur l'application adaptiv-fraction pour sa taille d'échantillon relativement importante :"
   ]
  },
  {
   "cell_type": "markdown",
   "id": "18886311",
   "metadata": {},
   "source": [
    "# --------------------------------------------------------------------------------------------------------------"
   ]
  },
  {
   "cell_type": "markdown",
   "id": "b8dd7fe8",
   "metadata": {},
   "source": [
    "Voyons comment les élèves sont répartis par module suivant les objectifs et activités qu'ils ont traités dans adaptiv-fraction :"
   ]
  },
  {
   "cell_type": "code",
   "execution_count": 14,
   "id": "053eb0bf",
   "metadata": {},
   "outputs": [
    {
     "data": {
      "text/html": [
       "<div>\n",
       "<style scoped>\n",
       "    .dataframe tbody tr th:only-of-type {\n",
       "        vertical-align: middle;\n",
       "    }\n",
       "\n",
       "    .dataframe tbody tr th {\n",
       "        vertical-align: top;\n",
       "    }\n",
       "\n",
       "    .dataframe thead th {\n",
       "        text-align: right;\n",
       "    }\n",
       "</style>\n",
       "<table border=\"1\" class=\"dataframe\">\n",
       "  <thead>\n",
       "    <tr style=\"text-align: right;\">\n",
       "      <th></th>\n",
       "      <th></th>\n",
       "      <th></th>\n",
       "      <th>student_id</th>\n",
       "    </tr>\n",
       "    <tr>\n",
       "      <th>module_id</th>\n",
       "      <th>objective_id</th>\n",
       "      <th>activity_id</th>\n",
       "      <th></th>\n",
       "    </tr>\n",
       "  </thead>\n",
       "  <tbody>\n",
       "    <tr>\n",
       "      <th rowspan=\"40\" valign=\"top\">7f265c13-5134-4f01-8c77-ddbfc4194f12</th>\n",
       "      <th rowspan=\"4\" valign=\"top\">1e06e492-7b78-46a8-bca8-63a76f81c3ca</th>\n",
       "      <th>5b0779c3-f975-45ca-b735-0a0acc57ae86</th>\n",
       "      <td>401</td>\n",
       "    </tr>\n",
       "    <tr>\n",
       "      <th>9324825a-10da-4808-a56a-2b22a2b8f48d</th>\n",
       "      <td>700</td>\n",
       "    </tr>\n",
       "    <tr>\n",
       "      <th>bb25f63e-e960-412e-b536-4be9026c0e6e</th>\n",
       "      <td>1376</td>\n",
       "    </tr>\n",
       "    <tr>\n",
       "      <th>ed44840b-b367-4bcf-8492-a851e97c64e7</th>\n",
       "      <td>1061</td>\n",
       "    </tr>\n",
       "    <tr>\n",
       "      <th rowspan=\"5\" valign=\"top\">65e0f76c-7377-4b69-893e-7dd2a4326f4b</th>\n",
       "      <th>12b1c77d-163d-44b3-ad6c-5c3b58cb86ac</th>\n",
       "      <td>1146</td>\n",
       "    </tr>\n",
       "    <tr>\n",
       "      <th>44f6697b-b8c2-410e-aad4-3975b5962d5c</th>\n",
       "      <td>994</td>\n",
       "    </tr>\n",
       "    <tr>\n",
       "      <th>8035d923-cdae-49d9-bbd9-4e033a98acae</th>\n",
       "      <td>1350</td>\n",
       "    </tr>\n",
       "    <tr>\n",
       "      <th>b2e3fe64-4323-4418-8bdc-bb0eeadb618d</th>\n",
       "      <td>1395</td>\n",
       "    </tr>\n",
       "    <tr>\n",
       "      <th>c2798b44-58d2-4d9e-8d46-daeb70f912ed</th>\n",
       "      <td>1019</td>\n",
       "    </tr>\n",
       "    <tr>\n",
       "      <th rowspan=\"3\" valign=\"top\">7f8eaae8-66cb-4603-a818-31d832b5e7fd</th>\n",
       "      <th>1306b67e-ccd2-4bad-bc17-4770a82da891</th>\n",
       "      <td>1055</td>\n",
       "    </tr>\n",
       "    <tr>\n",
       "      <th>798b1a0e-bc5d-41c1-98ef-1e904a5c6a17</th>\n",
       "      <td>627</td>\n",
       "    </tr>\n",
       "    <tr>\n",
       "      <th>c2c52560-0344-4239-8e61-9132e3a8a828</th>\n",
       "      <td>816</td>\n",
       "    </tr>\n",
       "    <tr>\n",
       "      <th rowspan=\"11\" valign=\"top\">9d9ec499-145a-485b-8824-6d7dffa9391e</th>\n",
       "      <th>02f48daf-a10c-426f-9855-07c32dc230e5</th>\n",
       "      <td>1102</td>\n",
       "    </tr>\n",
       "    <tr>\n",
       "      <th>1af3ed37-fc2e-4a50-b6d6-ea66847000a4</th>\n",
       "      <td>532</td>\n",
       "    </tr>\n",
       "    <tr>\n",
       "      <th>64b6ff95-dc17-446b-a5e3-e842bbb6231f</th>\n",
       "      <td>791</td>\n",
       "    </tr>\n",
       "    <tr>\n",
       "      <th>6b0a6f54-0413-421f-95bd-76f265cfde2d</th>\n",
       "      <td>1229</td>\n",
       "    </tr>\n",
       "    <tr>\n",
       "      <th>98ba698d-7fab-47fd-b084-80f375baafbd</th>\n",
       "      <td>749</td>\n",
       "    </tr>\n",
       "    <tr>\n",
       "      <th>a196cb84-f9fe-49c8-b021-26353fbe5ffa</th>\n",
       "      <td>5121</td>\n",
       "    </tr>\n",
       "    <tr>\n",
       "      <th>a4ebed16-c9a3-40bc-a4d5-ac4882ca154b</th>\n",
       "      <td>1482</td>\n",
       "    </tr>\n",
       "    <tr>\n",
       "      <th>b2ebeaef-5baf-4f60-8f70-b548bec8b392</th>\n",
       "      <td>1166</td>\n",
       "    </tr>\n",
       "    <tr>\n",
       "      <th>d722f114-2c79-44d1-ab09-380616121357</th>\n",
       "      <td>1672</td>\n",
       "    </tr>\n",
       "    <tr>\n",
       "      <th>ee66609a-c0af-4861-b3d3-38e19738e7b2</th>\n",
       "      <td>1606</td>\n",
       "    </tr>\n",
       "    <tr>\n",
       "      <th>f9f98eeb-d79a-4576-b2f5-8607256a81b6</th>\n",
       "      <td>702</td>\n",
       "    </tr>\n",
       "    <tr>\n",
       "      <th rowspan=\"8\" valign=\"top\">b1e8ddfd-5127-4feb-b29f-1513de278371</th>\n",
       "      <th>06949cc0-cbbb-4d18-98ba-a0ba7b255077</th>\n",
       "      <td>1391</td>\n",
       "    </tr>\n",
       "    <tr>\n",
       "      <th>13f6198c-c148-4f1d-bee4-b54b47948fdf</th>\n",
       "      <td>1046</td>\n",
       "    </tr>\n",
       "    <tr>\n",
       "      <th>1a64ca61-3776-46ab-9cd9-087e97b33013</th>\n",
       "      <td>1406</td>\n",
       "    </tr>\n",
       "    <tr>\n",
       "      <th>2111f46a-984b-498b-b7ca-0d62e70aa7c4</th>\n",
       "      <td>815</td>\n",
       "    </tr>\n",
       "    <tr>\n",
       "      <th>57ddd3ff-b149-487b-81e7-7aec90dc86dc</th>\n",
       "      <td>565</td>\n",
       "    </tr>\n",
       "    <tr>\n",
       "      <th>d7eb550c-841d-4d0e-8304-4f1a052bb7b0</th>\n",
       "      <td>914</td>\n",
       "    </tr>\n",
       "    <tr>\n",
       "      <th>dc3c7f8d-00a5-47a7-b6b0-742752c20818</th>\n",
       "      <td>2647</td>\n",
       "    </tr>\n",
       "    <tr>\n",
       "      <th>e41d0f42-a2c6-4687-87d5-1d80fa76ef73</th>\n",
       "      <td>850</td>\n",
       "    </tr>\n",
       "    <tr>\n",
       "      <th>d8d62ba7-3d41-4b1c-86f6-8328bd412c46</th>\n",
       "      <th>ec91651c-c921-4e3f-b8ec-545b48161fed</th>\n",
       "      <td>3354</td>\n",
       "    </tr>\n",
       "    <tr>\n",
       "      <th rowspan=\"8\" valign=\"top\">e788d13c-5b71-4ff7-b4c7-a314b50dca96</th>\n",
       "      <th>191f3dc2-8b41-4c01-a9bb-87ca671eeeb4</th>\n",
       "      <td>927</td>\n",
       "    </tr>\n",
       "    <tr>\n",
       "      <th>27c764c9-5eb6-46b7-bb7a-252656937038</th>\n",
       "      <td>2065</td>\n",
       "    </tr>\n",
       "    <tr>\n",
       "      <th>3a97c9e5-3c0f-4cea-92dd-146a87c53a10</th>\n",
       "      <td>776</td>\n",
       "    </tr>\n",
       "    <tr>\n",
       "      <th>4f24bd60-ebb8-4d15-9b37-8a913ac6a4cc</th>\n",
       "      <td>3073</td>\n",
       "    </tr>\n",
       "    <tr>\n",
       "      <th>5470e156-aee1-4f8f-9f8c-b5439a9ec8d0</th>\n",
       "      <td>542</td>\n",
       "    </tr>\n",
       "    <tr>\n",
       "      <th>7f2922d8-2c70-4cdd-91e1-4d6b8f447f5c</th>\n",
       "      <td>892</td>\n",
       "    </tr>\n",
       "    <tr>\n",
       "      <th>d1607a5c-0c49-4f67-b5b5-e41218bc1823</th>\n",
       "      <td>875</td>\n",
       "    </tr>\n",
       "    <tr>\n",
       "      <th>fba52d57-6a8e-4e9a-96fa-ab50ccad7f7b</th>\n",
       "      <td>631</td>\n",
       "    </tr>\n",
       "  </tbody>\n",
       "</table>\n",
       "</div>"
      ],
      "text/plain": [
       "                                                                                                                student_id\n",
       "module_id                            objective_id                         activity_id                                     \n",
       "7f265c13-5134-4f01-8c77-ddbfc4194f12 1e06e492-7b78-46a8-bca8-63a76f81c3ca 5b0779c3-f975-45ca-b735-0a0acc57ae86         401\n",
       "                                                                          9324825a-10da-4808-a56a-2b22a2b8f48d         700\n",
       "                                                                          bb25f63e-e960-412e-b536-4be9026c0e6e        1376\n",
       "                                                                          ed44840b-b367-4bcf-8492-a851e97c64e7        1061\n",
       "                                     65e0f76c-7377-4b69-893e-7dd2a4326f4b 12b1c77d-163d-44b3-ad6c-5c3b58cb86ac        1146\n",
       "                                                                          44f6697b-b8c2-410e-aad4-3975b5962d5c         994\n",
       "                                                                          8035d923-cdae-49d9-bbd9-4e033a98acae        1350\n",
       "                                                                          b2e3fe64-4323-4418-8bdc-bb0eeadb618d        1395\n",
       "                                                                          c2798b44-58d2-4d9e-8d46-daeb70f912ed        1019\n",
       "                                     7f8eaae8-66cb-4603-a818-31d832b5e7fd 1306b67e-ccd2-4bad-bc17-4770a82da891        1055\n",
       "                                                                          798b1a0e-bc5d-41c1-98ef-1e904a5c6a17         627\n",
       "                                                                          c2c52560-0344-4239-8e61-9132e3a8a828         816\n",
       "                                     9d9ec499-145a-485b-8824-6d7dffa9391e 02f48daf-a10c-426f-9855-07c32dc230e5        1102\n",
       "                                                                          1af3ed37-fc2e-4a50-b6d6-ea66847000a4         532\n",
       "                                                                          64b6ff95-dc17-446b-a5e3-e842bbb6231f         791\n",
       "                                                                          6b0a6f54-0413-421f-95bd-76f265cfde2d        1229\n",
       "                                                                          98ba698d-7fab-47fd-b084-80f375baafbd         749\n",
       "                                                                          a196cb84-f9fe-49c8-b021-26353fbe5ffa        5121\n",
       "                                                                          a4ebed16-c9a3-40bc-a4d5-ac4882ca154b        1482\n",
       "                                                                          b2ebeaef-5baf-4f60-8f70-b548bec8b392        1166\n",
       "                                                                          d722f114-2c79-44d1-ab09-380616121357        1672\n",
       "                                                                          ee66609a-c0af-4861-b3d3-38e19738e7b2        1606\n",
       "                                                                          f9f98eeb-d79a-4576-b2f5-8607256a81b6         702\n",
       "                                     b1e8ddfd-5127-4feb-b29f-1513de278371 06949cc0-cbbb-4d18-98ba-a0ba7b255077        1391\n",
       "                                                                          13f6198c-c148-4f1d-bee4-b54b47948fdf        1046\n",
       "                                                                          1a64ca61-3776-46ab-9cd9-087e97b33013        1406\n",
       "                                                                          2111f46a-984b-498b-b7ca-0d62e70aa7c4         815\n",
       "                                                                          57ddd3ff-b149-487b-81e7-7aec90dc86dc         565\n",
       "                                                                          d7eb550c-841d-4d0e-8304-4f1a052bb7b0         914\n",
       "                                                                          dc3c7f8d-00a5-47a7-b6b0-742752c20818        2647\n",
       "                                                                          e41d0f42-a2c6-4687-87d5-1d80fa76ef73         850\n",
       "                                     d8d62ba7-3d41-4b1c-86f6-8328bd412c46 ec91651c-c921-4e3f-b8ec-545b48161fed        3354\n",
       "                                     e788d13c-5b71-4ff7-b4c7-a314b50dca96 191f3dc2-8b41-4c01-a9bb-87ca671eeeb4         927\n",
       "                                                                          27c764c9-5eb6-46b7-bb7a-252656937038        2065\n",
       "                                                                          3a97c9e5-3c0f-4cea-92dd-146a87c53a10         776\n",
       "                                                                          4f24bd60-ebb8-4d15-9b37-8a913ac6a4cc        3073\n",
       "                                                                          5470e156-aee1-4f8f-9f8c-b5439a9ec8d0         542\n",
       "                                                                          7f2922d8-2c70-4cdd-91e1-4d6b8f447f5c         892\n",
       "                                                                          d1607a5c-0c49-4f67-b5b5-e41218bc1823         875\n",
       "                                                                          fba52d57-6a8e-4e9a-96fa-ab50ccad7f7b         631"
      ]
     },
     "execution_count": 14,
     "metadata": {},
     "output_type": "execute_result"
    }
   ],
   "source": [
    "df_adfrac.pivot_table(values = \"student_id\", index = [\"module_id\", \"objective_id\", \"activity_id\"], aggfunc = \"count\")"
   ]
  },
  {
   "cell_type": "markdown",
   "id": "9602c58d",
   "metadata": {},
   "source": [
    "Globalement, les données ont la structure suivante : pour chaque élève, on dispose d'un certain nombre d'exercices rattachés à des activités qui sont elles-mêmes groupées en objectifs inscrits dans des modules."
   ]
  },
  {
   "cell_type": "markdown",
   "id": "5568d582",
   "metadata": {},
   "source": [
    "Nous intéressons à l'unité statistique : élève-activité. Nos données ont donc une réprésentation en Panel. Un élève est en interaction avec une activité si et seulement si il s'est exercé sur au moins un exercice de cette activité. On appelle l'unité élève-exercice, une interaction de l'élève avec une activité. Tout élève fait donc au moins une interaction avec une activité."
   ]
  },
  {
   "cell_type": "markdown",
   "id": "963572d3",
   "metadata": {},
   "source": [
    "Travaillons que sur un seul élève, histoire de voir comment structurer les données :"
   ]
  },
  {
   "cell_type": "code",
   "execution_count": 15,
   "id": "493e1a9a",
   "metadata": {},
   "outputs": [],
   "source": [
    "#sélection de l'élève à l'identifiant 01b690ce-dc1f-4f83-9a28-ee1eaf530d2a\n",
    "df_sample = df_adfrac[df_adfrac[\"student_id\"] == \"01b690ce-dc1f-4f83-9a28-ee1eaf530d2a\"]"
   ]
  },
  {
   "cell_type": "code",
   "execution_count": 16,
   "id": "39e0eaa1",
   "metadata": {},
   "outputs": [
    {
     "data": {
      "text/plain": [
       "810"
      ]
     },
     "execution_count": 16,
     "metadata": {},
     "output_type": "execute_result"
    }
   ],
   "source": [
    "#Nombre d'interactions de l'élève considéré : \n",
    "df_sample.shape[0]"
   ]
  },
  {
   "cell_type": "code",
   "execution_count": 17,
   "id": "96a1edaf",
   "metadata": {},
   "outputs": [
    {
     "data": {
      "text/plain": [
       "ed44840b-b367-4bcf-8492-a851e97c64e7    91\n",
       "a196cb84-f9fe-49c8-b021-26353fbe5ffa    64\n",
       "b2ebeaef-5baf-4f60-8f70-b548bec8b392    63\n",
       "13f6198c-c148-4f1d-bee4-b54b47948fdf    51\n",
       "02f48daf-a10c-426f-9855-07c32dc230e5    45\n",
       "27c764c9-5eb6-46b7-bb7a-252656937038    45\n",
       "e41d0f42-a2c6-4687-87d5-1d80fa76ef73    42\n",
       "1a64ca61-3776-46ab-9cd9-087e97b33013    42\n",
       "8035d923-cdae-49d9-bbd9-4e033a98acae    40\n",
       "12b1c77d-163d-44b3-ad6c-5c3b58cb86ac    36\n",
       "bb25f63e-e960-412e-b536-4be9026c0e6e    30\n",
       "dc3c7f8d-00a5-47a7-b6b0-742752c20818    25\n",
       "c2c52560-0344-4239-8e61-9132e3a8a828    24\n",
       "9324825a-10da-4808-a56a-2b22a2b8f48d    20\n",
       "1306b67e-ccd2-4bad-bc17-4770a82da891    19\n",
       "ec91651c-c921-4e3f-b8ec-545b48161fed    18\n",
       "3a97c9e5-3c0f-4cea-92dd-146a87c53a10    17\n",
       "4f24bd60-ebb8-4d15-9b37-8a913ac6a4cc    13\n",
       "b2e3fe64-4323-4418-8bdc-bb0eeadb618d    13\n",
       "2111f46a-984b-498b-b7ca-0d62e70aa7c4    13\n",
       "798b1a0e-bc5d-41c1-98ef-1e904a5c6a17    11\n",
       "06949cc0-cbbb-4d18-98ba-a0ba7b255077     9\n",
       "ee66609a-c0af-4861-b3d3-38e19738e7b2     9\n",
       "191f3dc2-8b41-4c01-a9bb-87ca671eeeb4     9\n",
       "6b0a6f54-0413-421f-95bd-76f265cfde2d     8\n",
       "57ddd3ff-b149-487b-81e7-7aec90dc86dc     7\n",
       "44f6697b-b8c2-410e-aad4-3975b5962d5c     7\n",
       "d7eb550c-841d-4d0e-8304-4f1a052bb7b0     6\n",
       "c2798b44-58d2-4d9e-8d46-daeb70f912ed     5\n",
       "d1607a5c-0c49-4f67-b5b5-e41218bc1823     4\n",
       "5470e156-aee1-4f8f-9f8c-b5439a9ec8d0     4\n",
       "f9f98eeb-d79a-4576-b2f5-8607256a81b6     4\n",
       "5b0779c3-f975-45ca-b735-0a0acc57ae86     4\n",
       "98ba698d-7fab-47fd-b084-80f375baafbd     4\n",
       "fba52d57-6a8e-4e9a-96fa-ab50ccad7f7b     4\n",
       "7f2922d8-2c70-4cdd-91e1-4d6b8f447f5c     4\n",
       "Name: activity_id, dtype: int64"
      ]
     },
     "execution_count": 17,
     "metadata": {},
     "output_type": "execute_result"
    }
   ],
   "source": [
    "#nombre d'exercices ou interactions par activité de l'élève\n",
    "df_sample[\"activity_id\"].value_counts()"
   ]
  },
  {
   "cell_type": "markdown",
   "id": "e05d4350",
   "metadata": {},
   "source": [
    "Le Panel est évidemment déséquilibré !"
   ]
  },
  {
   "cell_type": "markdown",
   "id": "73276452",
   "metadata": {},
   "source": [
    "Débutons le traitement des données :"
   ]
  },
  {
   "cell_type": "code",
   "execution_count": 18,
   "id": "c366a0e8",
   "metadata": {},
   "outputs": [],
   "source": [
    "#suppression des colonnes non-serviables\n",
    "df_sample_lite = df_sample.drop([\"exercise_id\", \"module_id\", \"objective_id\"], axis = 1)\n",
    "\n",
    "#rearrangement des colonnes\n",
    "df_sample_lite = df_sample_lite[[\"student_id\", \"activity_id\", \"ts\", \"heure\", \"duration\", \"score\"]]\n",
    "\n",
    "#ordonnancement du jeu de données suivant id_eleve x id_activite\n",
    "df_sample_lite = df_sample_lite.sort_values(by = [\"student_id\", \"activity_id\", \"ts\"]) \n",
    "\n",
    "#numérotation et comptage des interactions\n",
    "interaction_col = df_sample_lite.groupby([\"student_id\",\"activity_id\"]).cumcount() + 1\n",
    "\n",
    "#ajout de la colonne de comptage du numéro d'interaction\n",
    "df_sample_lite[\"interaction_num\"] = interaction_col"
   ]
  },
  {
   "cell_type": "markdown",
   "id": "a306e813",
   "metadata": {},
   "source": [
    "Voyons ce que cela donne en tant que premiers traitements"
   ]
  },
  {
   "cell_type": "code",
   "execution_count": 19,
   "id": "445ca5b2",
   "metadata": {
    "scrolled": false
   },
   "outputs": [
    {
     "data": {
      "text/html": [
       "<div>\n",
       "<style scoped>\n",
       "    .dataframe tbody tr th:only-of-type {\n",
       "        vertical-align: middle;\n",
       "    }\n",
       "\n",
       "    .dataframe tbody tr th {\n",
       "        vertical-align: top;\n",
       "    }\n",
       "\n",
       "    .dataframe thead th {\n",
       "        text-align: right;\n",
       "    }\n",
       "</style>\n",
       "<table border=\"1\" class=\"dataframe\">\n",
       "  <thead>\n",
       "    <tr style=\"text-align: right;\">\n",
       "      <th></th>\n",
       "      <th>student_id</th>\n",
       "      <th>activity_id</th>\n",
       "      <th>ts</th>\n",
       "      <th>heure</th>\n",
       "      <th>duration</th>\n",
       "      <th>score</th>\n",
       "      <th>interaction_num</th>\n",
       "    </tr>\n",
       "  </thead>\n",
       "  <tbody>\n",
       "    <tr>\n",
       "      <th>13086</th>\n",
       "      <td>01b690ce-dc1f-4f83-9a28-ee1eaf530d2a</td>\n",
       "      <td>02f48daf-a10c-426f-9855-07c32dc230e5</td>\n",
       "      <td>2021-07-12 01:25:35.360000+00:00</td>\n",
       "      <td>1</td>\n",
       "      <td>10</td>\n",
       "      <td>0.0</td>\n",
       "      <td>1</td>\n",
       "    </tr>\n",
       "    <tr>\n",
       "      <th>13108</th>\n",
       "      <td>01b690ce-dc1f-4f83-9a28-ee1eaf530d2a</td>\n",
       "      <td>02f48daf-a10c-426f-9855-07c32dc230e5</td>\n",
       "      <td>2021-07-12 01:25:44.569000+00:00</td>\n",
       "      <td>1</td>\n",
       "      <td>5</td>\n",
       "      <td>0.0</td>\n",
       "      <td>2</td>\n",
       "    </tr>\n",
       "    <tr>\n",
       "      <th>13120</th>\n",
       "      <td>01b690ce-dc1f-4f83-9a28-ee1eaf530d2a</td>\n",
       "      <td>02f48daf-a10c-426f-9855-07c32dc230e5</td>\n",
       "      <td>2021-07-12 01:25:50.016000+00:00</td>\n",
       "      <td>1</td>\n",
       "      <td>3</td>\n",
       "      <td>0.0</td>\n",
       "      <td>3</td>\n",
       "    </tr>\n",
       "    <tr>\n",
       "      <th>13129</th>\n",
       "      <td>01b690ce-dc1f-4f83-9a28-ee1eaf530d2a</td>\n",
       "      <td>02f48daf-a10c-426f-9855-07c32dc230e5</td>\n",
       "      <td>2021-07-12 01:25:55.486000+00:00</td>\n",
       "      <td>1</td>\n",
       "      <td>3</td>\n",
       "      <td>0.0</td>\n",
       "      <td>4</td>\n",
       "    </tr>\n",
       "    <tr>\n",
       "      <th>14045</th>\n",
       "      <td>01b690ce-dc1f-4f83-9a28-ee1eaf530d2a</td>\n",
       "      <td>02f48daf-a10c-426f-9855-07c32dc230e5</td>\n",
       "      <td>2021-07-12 01:32:59.759000+00:00</td>\n",
       "      <td>1</td>\n",
       "      <td>3</td>\n",
       "      <td>0.0</td>\n",
       "      <td>5</td>\n",
       "    </tr>\n",
       "  </tbody>\n",
       "</table>\n",
       "</div>"
      ],
      "text/plain": [
       "                                 student_id  \\\n",
       "13086  01b690ce-dc1f-4f83-9a28-ee1eaf530d2a   \n",
       "13108  01b690ce-dc1f-4f83-9a28-ee1eaf530d2a   \n",
       "13120  01b690ce-dc1f-4f83-9a28-ee1eaf530d2a   \n",
       "13129  01b690ce-dc1f-4f83-9a28-ee1eaf530d2a   \n",
       "14045  01b690ce-dc1f-4f83-9a28-ee1eaf530d2a   \n",
       "\n",
       "                                activity_id                                ts  \\\n",
       "13086  02f48daf-a10c-426f-9855-07c32dc230e5  2021-07-12 01:25:35.360000+00:00   \n",
       "13108  02f48daf-a10c-426f-9855-07c32dc230e5  2021-07-12 01:25:44.569000+00:00   \n",
       "13120  02f48daf-a10c-426f-9855-07c32dc230e5  2021-07-12 01:25:50.016000+00:00   \n",
       "13129  02f48daf-a10c-426f-9855-07c32dc230e5  2021-07-12 01:25:55.486000+00:00   \n",
       "14045  02f48daf-a10c-426f-9855-07c32dc230e5  2021-07-12 01:32:59.759000+00:00   \n",
       "\n",
       "       heure  duration  score  interaction_num  \n",
       "13086      1        10    0.0                1  \n",
       "13108      1         5    0.0                2  \n",
       "13120      1         3    0.0                3  \n",
       "13129      1         3    0.0                4  \n",
       "14045      1         3    0.0                5  "
      ]
     },
     "execution_count": 19,
     "metadata": {},
     "output_type": "execute_result"
    }
   ],
   "source": [
    "df_sample_lite.head(5)"
   ]
  },
  {
   "cell_type": "markdown",
   "id": "de824c3a",
   "metadata": {},
   "source": [
    "## Construction de l'étiquette (target)"
   ]
  },
  {
   "cell_type": "markdown",
   "id": "ddba0e17",
   "metadata": {},
   "source": [
    "Construisons à présent le wheel-spinning. On rappelle qu'il s'agit d'une situation dans laquelle l'élève reste bloqué sur une activité sans toutefois la valider/maîtriser au bout d'un certain temps. Pour la validation/maîtrise d'une activité nous nous référons au graphe du bandit manchot d'évidenceb pour une application, il définit le success rate ou taux de succès. Quant à la limite de temps de pratique, nous la définirons plus-tard."
   ]
  },
  {
   "cell_type": "code",
   "execution_count": 20,
   "id": "6acd11b9",
   "metadata": {},
   "outputs": [],
   "source": [
    "#définition de la maîtrise d'une activité\n",
    "\n",
    "##taux de succès moyen d'une activité défini par le fichier de config json de adaptiv-fraction\n",
    "success_rate = 0.9 \n",
    "\n",
    "##calcul du score de maîtrise au moment d'une intercation\n",
    "##ce score est défini à partir de la moyenne des scores sur les 4 derniers exercices (interactions) d'une activité\n",
    "##si le score calculé dépasse le success rate, alors l'élève a matrisé la compétence\n",
    "score_at_inter = df_sample_lite.groupby('activity_id')['score'].rolling(window=4).mean()\n",
    "df_sample_lite[\"score_at_inter\"] = score_at_inter.values\n",
    "\n",
    "##construction de la maîtrise\n",
    "df_sample_lite[\"mastery\"] = np.where(df_sample_lite['score_at_inter'] >= success_rate, 1, 0)\n",
    "df_sample_lite.loc[df_sample_lite['score_at_inter'].isna(), \"mastery\"] = np.nan"
   ]
  },
  {
   "cell_type": "code",
   "execution_count": 21,
   "id": "4c7f6b60",
   "metadata": {
    "scrolled": false
   },
   "outputs": [
    {
     "data": {
      "text/html": [
       "<div>\n",
       "<style scoped>\n",
       "    .dataframe tbody tr th:only-of-type {\n",
       "        vertical-align: middle;\n",
       "    }\n",
       "\n",
       "    .dataframe tbody tr th {\n",
       "        vertical-align: top;\n",
       "    }\n",
       "\n",
       "    .dataframe thead th {\n",
       "        text-align: right;\n",
       "    }\n",
       "</style>\n",
       "<table border=\"1\" class=\"dataframe\">\n",
       "  <thead>\n",
       "    <tr style=\"text-align: right;\">\n",
       "      <th></th>\n",
       "      <th>student_id</th>\n",
       "      <th>activity_id</th>\n",
       "      <th>ts</th>\n",
       "      <th>heure</th>\n",
       "      <th>duration</th>\n",
       "      <th>score</th>\n",
       "      <th>interaction_num</th>\n",
       "      <th>score_at_inter</th>\n",
       "      <th>mastery</th>\n",
       "    </tr>\n",
       "  </thead>\n",
       "  <tbody>\n",
       "    <tr>\n",
       "      <th>13086</th>\n",
       "      <td>01b690ce-dc1f-4f83-9a28-ee1eaf530d2a</td>\n",
       "      <td>02f48daf-a10c-426f-9855-07c32dc230e5</td>\n",
       "      <td>2021-07-12 01:25:35.360000+00:00</td>\n",
       "      <td>1</td>\n",
       "      <td>10</td>\n",
       "      <td>0.00</td>\n",
       "      <td>1</td>\n",
       "      <td>NaN</td>\n",
       "      <td>NaN</td>\n",
       "    </tr>\n",
       "    <tr>\n",
       "      <th>13108</th>\n",
       "      <td>01b690ce-dc1f-4f83-9a28-ee1eaf530d2a</td>\n",
       "      <td>02f48daf-a10c-426f-9855-07c32dc230e5</td>\n",
       "      <td>2021-07-12 01:25:44.569000+00:00</td>\n",
       "      <td>1</td>\n",
       "      <td>5</td>\n",
       "      <td>0.00</td>\n",
       "      <td>2</td>\n",
       "      <td>NaN</td>\n",
       "      <td>NaN</td>\n",
       "    </tr>\n",
       "    <tr>\n",
       "      <th>13120</th>\n",
       "      <td>01b690ce-dc1f-4f83-9a28-ee1eaf530d2a</td>\n",
       "      <td>02f48daf-a10c-426f-9855-07c32dc230e5</td>\n",
       "      <td>2021-07-12 01:25:50.016000+00:00</td>\n",
       "      <td>1</td>\n",
       "      <td>3</td>\n",
       "      <td>0.00</td>\n",
       "      <td>3</td>\n",
       "      <td>NaN</td>\n",
       "      <td>NaN</td>\n",
       "    </tr>\n",
       "    <tr>\n",
       "      <th>13129</th>\n",
       "      <td>01b690ce-dc1f-4f83-9a28-ee1eaf530d2a</td>\n",
       "      <td>02f48daf-a10c-426f-9855-07c32dc230e5</td>\n",
       "      <td>2021-07-12 01:25:55.486000+00:00</td>\n",
       "      <td>1</td>\n",
       "      <td>3</td>\n",
       "      <td>0.00</td>\n",
       "      <td>4</td>\n",
       "      <td>0.0000</td>\n",
       "      <td>0.0</td>\n",
       "    </tr>\n",
       "    <tr>\n",
       "      <th>14045</th>\n",
       "      <td>01b690ce-dc1f-4f83-9a28-ee1eaf530d2a</td>\n",
       "      <td>02f48daf-a10c-426f-9855-07c32dc230e5</td>\n",
       "      <td>2021-07-12 01:32:59.759000+00:00</td>\n",
       "      <td>1</td>\n",
       "      <td>3</td>\n",
       "      <td>0.00</td>\n",
       "      <td>5</td>\n",
       "      <td>0.0000</td>\n",
       "      <td>0.0</td>\n",
       "    </tr>\n",
       "    <tr>\n",
       "      <th>14049</th>\n",
       "      <td>01b690ce-dc1f-4f83-9a28-ee1eaf530d2a</td>\n",
       "      <td>02f48daf-a10c-426f-9855-07c32dc230e5</td>\n",
       "      <td>2021-07-12 01:33:03.832000+00:00</td>\n",
       "      <td>1</td>\n",
       "      <td>3</td>\n",
       "      <td>0.00</td>\n",
       "      <td>6</td>\n",
       "      <td>0.0000</td>\n",
       "      <td>0.0</td>\n",
       "    </tr>\n",
       "    <tr>\n",
       "      <th>16805</th>\n",
       "      <td>01b690ce-dc1f-4f83-9a28-ee1eaf530d2a</td>\n",
       "      <td>02f48daf-a10c-426f-9855-07c32dc230e5</td>\n",
       "      <td>2021-07-12 08:01:17.969000+00:00</td>\n",
       "      <td>8</td>\n",
       "      <td>9</td>\n",
       "      <td>0.00</td>\n",
       "      <td>7</td>\n",
       "      <td>0.0000</td>\n",
       "      <td>0.0</td>\n",
       "    </tr>\n",
       "    <tr>\n",
       "      <th>16808</th>\n",
       "      <td>01b690ce-dc1f-4f83-9a28-ee1eaf530d2a</td>\n",
       "      <td>02f48daf-a10c-426f-9855-07c32dc230e5</td>\n",
       "      <td>2021-07-12 08:01:26.169000+00:00</td>\n",
       "      <td>8</td>\n",
       "      <td>6</td>\n",
       "      <td>0.00</td>\n",
       "      <td>8</td>\n",
       "      <td>0.0000</td>\n",
       "      <td>0.0</td>\n",
       "    </tr>\n",
       "    <tr>\n",
       "      <th>16810</th>\n",
       "      <td>01b690ce-dc1f-4f83-9a28-ee1eaf530d2a</td>\n",
       "      <td>02f48daf-a10c-426f-9855-07c32dc230e5</td>\n",
       "      <td>2021-07-12 08:01:33.130000+00:00</td>\n",
       "      <td>8</td>\n",
       "      <td>3</td>\n",
       "      <td>0.00</td>\n",
       "      <td>9</td>\n",
       "      <td>0.0000</td>\n",
       "      <td>0.0</td>\n",
       "    </tr>\n",
       "    <tr>\n",
       "      <th>16811</th>\n",
       "      <td>01b690ce-dc1f-4f83-9a28-ee1eaf530d2a</td>\n",
       "      <td>02f48daf-a10c-426f-9855-07c32dc230e5</td>\n",
       "      <td>2021-07-12 08:01:36.729000+00:00</td>\n",
       "      <td>8</td>\n",
       "      <td>2</td>\n",
       "      <td>0.00</td>\n",
       "      <td>10</td>\n",
       "      <td>0.0000</td>\n",
       "      <td>0.0</td>\n",
       "    </tr>\n",
       "    <tr>\n",
       "      <th>16812</th>\n",
       "      <td>01b690ce-dc1f-4f83-9a28-ee1eaf530d2a</td>\n",
       "      <td>02f48daf-a10c-426f-9855-07c32dc230e5</td>\n",
       "      <td>2021-07-12 08:01:39.816000+00:00</td>\n",
       "      <td>8</td>\n",
       "      <td>2</td>\n",
       "      <td>0.00</td>\n",
       "      <td>11</td>\n",
       "      <td>0.0000</td>\n",
       "      <td>0.0</td>\n",
       "    </tr>\n",
       "    <tr>\n",
       "      <th>16814</th>\n",
       "      <td>01b690ce-dc1f-4f83-9a28-ee1eaf530d2a</td>\n",
       "      <td>02f48daf-a10c-426f-9855-07c32dc230e5</td>\n",
       "      <td>2021-07-12 08:01:43.501000+00:00</td>\n",
       "      <td>8</td>\n",
       "      <td>2</td>\n",
       "      <td>0.00</td>\n",
       "      <td>12</td>\n",
       "      <td>0.0000</td>\n",
       "      <td>0.0</td>\n",
       "    </tr>\n",
       "    <tr>\n",
       "      <th>16816</th>\n",
       "      <td>01b690ce-dc1f-4f83-9a28-ee1eaf530d2a</td>\n",
       "      <td>02f48daf-a10c-426f-9855-07c32dc230e5</td>\n",
       "      <td>2021-07-12 08:01:47.938000+00:00</td>\n",
       "      <td>8</td>\n",
       "      <td>3</td>\n",
       "      <td>0.00</td>\n",
       "      <td>13</td>\n",
       "      <td>0.0000</td>\n",
       "      <td>0.0</td>\n",
       "    </tr>\n",
       "    <tr>\n",
       "      <th>16817</th>\n",
       "      <td>01b690ce-dc1f-4f83-9a28-ee1eaf530d2a</td>\n",
       "      <td>02f48daf-a10c-426f-9855-07c32dc230e5</td>\n",
       "      <td>2021-07-12 08:01:50.520000+00:00</td>\n",
       "      <td>8</td>\n",
       "      <td>1</td>\n",
       "      <td>0.00</td>\n",
       "      <td>14</td>\n",
       "      <td>0.0000</td>\n",
       "      <td>0.0</td>\n",
       "    </tr>\n",
       "    <tr>\n",
       "      <th>16819</th>\n",
       "      <td>01b690ce-dc1f-4f83-9a28-ee1eaf530d2a</td>\n",
       "      <td>02f48daf-a10c-426f-9855-07c32dc230e5</td>\n",
       "      <td>2021-07-12 08:01:53.163000+00:00</td>\n",
       "      <td>8</td>\n",
       "      <td>1</td>\n",
       "      <td>0.00</td>\n",
       "      <td>15</td>\n",
       "      <td>0.0000</td>\n",
       "      <td>0.0</td>\n",
       "    </tr>\n",
       "    <tr>\n",
       "      <th>16821</th>\n",
       "      <td>01b690ce-dc1f-4f83-9a28-ee1eaf530d2a</td>\n",
       "      <td>02f48daf-a10c-426f-9855-07c32dc230e5</td>\n",
       "      <td>2021-07-12 08:01:56.321000+00:00</td>\n",
       "      <td>8</td>\n",
       "      <td>2</td>\n",
       "      <td>0.00</td>\n",
       "      <td>16</td>\n",
       "      <td>0.0000</td>\n",
       "      <td>0.0</td>\n",
       "    </tr>\n",
       "    <tr>\n",
       "      <th>16823</th>\n",
       "      <td>01b690ce-dc1f-4f83-9a28-ee1eaf530d2a</td>\n",
       "      <td>02f48daf-a10c-426f-9855-07c32dc230e5</td>\n",
       "      <td>2021-07-12 08:02:00.430000+00:00</td>\n",
       "      <td>8</td>\n",
       "      <td>2</td>\n",
       "      <td>0.00</td>\n",
       "      <td>17</td>\n",
       "      <td>0.0000</td>\n",
       "      <td>0.0</td>\n",
       "    </tr>\n",
       "    <tr>\n",
       "      <th>16824</th>\n",
       "      <td>01b690ce-dc1f-4f83-9a28-ee1eaf530d2a</td>\n",
       "      <td>02f48daf-a10c-426f-9855-07c32dc230e5</td>\n",
       "      <td>2021-07-12 08:02:09.770000+00:00</td>\n",
       "      <td>8</td>\n",
       "      <td>7</td>\n",
       "      <td>0.75</td>\n",
       "      <td>18</td>\n",
       "      <td>0.1875</td>\n",
       "      <td>0.0</td>\n",
       "    </tr>\n",
       "    <tr>\n",
       "      <th>17112</th>\n",
       "      <td>01b690ce-dc1f-4f83-9a28-ee1eaf530d2a</td>\n",
       "      <td>02f48daf-a10c-426f-9855-07c32dc230e5</td>\n",
       "      <td>2021-07-12 08:23:04.157000+00:00</td>\n",
       "      <td>8</td>\n",
       "      <td>11</td>\n",
       "      <td>1.00</td>\n",
       "      <td>19</td>\n",
       "      <td>0.4375</td>\n",
       "      <td>0.0</td>\n",
       "    </tr>\n",
       "    <tr>\n",
       "      <th>17114</th>\n",
       "      <td>01b690ce-dc1f-4f83-9a28-ee1eaf530d2a</td>\n",
       "      <td>02f48daf-a10c-426f-9855-07c32dc230e5</td>\n",
       "      <td>2021-07-12 08:23:09.093000+00:00</td>\n",
       "      <td>8</td>\n",
       "      <td>3</td>\n",
       "      <td>0.00</td>\n",
       "      <td>20</td>\n",
       "      <td>0.4375</td>\n",
       "      <td>0.0</td>\n",
       "    </tr>\n",
       "    <tr>\n",
       "      <th>17115</th>\n",
       "      <td>01b690ce-dc1f-4f83-9a28-ee1eaf530d2a</td>\n",
       "      <td>02f48daf-a10c-426f-9855-07c32dc230e5</td>\n",
       "      <td>2021-07-12 08:23:12.877000+00:00</td>\n",
       "      <td>8</td>\n",
       "      <td>1</td>\n",
       "      <td>0.00</td>\n",
       "      <td>21</td>\n",
       "      <td>0.4375</td>\n",
       "      <td>0.0</td>\n",
       "    </tr>\n",
       "    <tr>\n",
       "      <th>17117</th>\n",
       "      <td>01b690ce-dc1f-4f83-9a28-ee1eaf530d2a</td>\n",
       "      <td>02f48daf-a10c-426f-9855-07c32dc230e5</td>\n",
       "      <td>2021-07-12 08:23:16.521000+00:00</td>\n",
       "      <td>8</td>\n",
       "      <td>2</td>\n",
       "      <td>0.00</td>\n",
       "      <td>22</td>\n",
       "      <td>0.2500</td>\n",
       "      <td>0.0</td>\n",
       "    </tr>\n",
       "    <tr>\n",
       "      <th>17119</th>\n",
       "      <td>01b690ce-dc1f-4f83-9a28-ee1eaf530d2a</td>\n",
       "      <td>02f48daf-a10c-426f-9855-07c32dc230e5</td>\n",
       "      <td>2021-07-12 08:23:20.321000+00:00</td>\n",
       "      <td>8</td>\n",
       "      <td>2</td>\n",
       "      <td>0.00</td>\n",
       "      <td>23</td>\n",
       "      <td>0.0000</td>\n",
       "      <td>0.0</td>\n",
       "    </tr>\n",
       "    <tr>\n",
       "      <th>17120</th>\n",
       "      <td>01b690ce-dc1f-4f83-9a28-ee1eaf530d2a</td>\n",
       "      <td>02f48daf-a10c-426f-9855-07c32dc230e5</td>\n",
       "      <td>2021-07-12 08:23:23.372000+00:00</td>\n",
       "      <td>8</td>\n",
       "      <td>1</td>\n",
       "      <td>0.00</td>\n",
       "      <td>24</td>\n",
       "      <td>0.0000</td>\n",
       "      <td>0.0</td>\n",
       "    </tr>\n",
       "    <tr>\n",
       "      <th>17121</th>\n",
       "      <td>01b690ce-dc1f-4f83-9a28-ee1eaf530d2a</td>\n",
       "      <td>02f48daf-a10c-426f-9855-07c32dc230e5</td>\n",
       "      <td>2021-07-12 08:23:27.629000+00:00</td>\n",
       "      <td>8</td>\n",
       "      <td>2</td>\n",
       "      <td>0.00</td>\n",
       "      <td>25</td>\n",
       "      <td>0.0000</td>\n",
       "      <td>0.0</td>\n",
       "    </tr>\n",
       "    <tr>\n",
       "      <th>17122</th>\n",
       "      <td>01b690ce-dc1f-4f83-9a28-ee1eaf530d2a</td>\n",
       "      <td>02f48daf-a10c-426f-9855-07c32dc230e5</td>\n",
       "      <td>2021-07-12 08:23:30.767000+00:00</td>\n",
       "      <td>8</td>\n",
       "      <td>2</td>\n",
       "      <td>1.00</td>\n",
       "      <td>26</td>\n",
       "      <td>0.2500</td>\n",
       "      <td>0.0</td>\n",
       "    </tr>\n",
       "    <tr>\n",
       "      <th>17124</th>\n",
       "      <td>01b690ce-dc1f-4f83-9a28-ee1eaf530d2a</td>\n",
       "      <td>02f48daf-a10c-426f-9855-07c32dc230e5</td>\n",
       "      <td>2021-07-12 08:23:33.900000+00:00</td>\n",
       "      <td>8</td>\n",
       "      <td>2</td>\n",
       "      <td>0.00</td>\n",
       "      <td>27</td>\n",
       "      <td>0.2500</td>\n",
       "      <td>0.0</td>\n",
       "    </tr>\n",
       "    <tr>\n",
       "      <th>17126</th>\n",
       "      <td>01b690ce-dc1f-4f83-9a28-ee1eaf530d2a</td>\n",
       "      <td>02f48daf-a10c-426f-9855-07c32dc230e5</td>\n",
       "      <td>2021-07-12 08:23:40.674000+00:00</td>\n",
       "      <td>8</td>\n",
       "      <td>5</td>\n",
       "      <td>0.25</td>\n",
       "      <td>28</td>\n",
       "      <td>0.3125</td>\n",
       "      <td>0.0</td>\n",
       "    </tr>\n",
       "    <tr>\n",
       "      <th>17128</th>\n",
       "      <td>01b690ce-dc1f-4f83-9a28-ee1eaf530d2a</td>\n",
       "      <td>02f48daf-a10c-426f-9855-07c32dc230e5</td>\n",
       "      <td>2021-07-12 08:23:46.231000+00:00</td>\n",
       "      <td>8</td>\n",
       "      <td>3</td>\n",
       "      <td>0.00</td>\n",
       "      <td>29</td>\n",
       "      <td>0.3125</td>\n",
       "      <td>0.0</td>\n",
       "    </tr>\n",
       "    <tr>\n",
       "      <th>17129</th>\n",
       "      <td>01b690ce-dc1f-4f83-9a28-ee1eaf530d2a</td>\n",
       "      <td>02f48daf-a10c-426f-9855-07c32dc230e5</td>\n",
       "      <td>2021-07-12 08:23:49.766000+00:00</td>\n",
       "      <td>8</td>\n",
       "      <td>1</td>\n",
       "      <td>0.00</td>\n",
       "      <td>30</td>\n",
       "      <td>0.0625</td>\n",
       "      <td>0.0</td>\n",
       "    </tr>\n",
       "    <tr>\n",
       "      <th>17131</th>\n",
       "      <td>01b690ce-dc1f-4f83-9a28-ee1eaf530d2a</td>\n",
       "      <td>02f48daf-a10c-426f-9855-07c32dc230e5</td>\n",
       "      <td>2021-07-12 08:23:53.745000+00:00</td>\n",
       "      <td>8</td>\n",
       "      <td>3</td>\n",
       "      <td>1.00</td>\n",
       "      <td>31</td>\n",
       "      <td>0.3125</td>\n",
       "      <td>0.0</td>\n",
       "    </tr>\n",
       "    <tr>\n",
       "      <th>17132</th>\n",
       "      <td>01b690ce-dc1f-4f83-9a28-ee1eaf530d2a</td>\n",
       "      <td>02f48daf-a10c-426f-9855-07c32dc230e5</td>\n",
       "      <td>2021-07-12 08:23:56.856000+00:00</td>\n",
       "      <td>8</td>\n",
       "      <td>2</td>\n",
       "      <td>0.00</td>\n",
       "      <td>32</td>\n",
       "      <td>0.2500</td>\n",
       "      <td>0.0</td>\n",
       "    </tr>\n",
       "    <tr>\n",
       "      <th>17133</th>\n",
       "      <td>01b690ce-dc1f-4f83-9a28-ee1eaf530d2a</td>\n",
       "      <td>02f48daf-a10c-426f-9855-07c32dc230e5</td>\n",
       "      <td>2021-07-12 08:24:00.716000+00:00</td>\n",
       "      <td>8</td>\n",
       "      <td>3</td>\n",
       "      <td>0.00</td>\n",
       "      <td>33</td>\n",
       "      <td>0.2500</td>\n",
       "      <td>0.0</td>\n",
       "    </tr>\n",
       "    <tr>\n",
       "      <th>17135</th>\n",
       "      <td>01b690ce-dc1f-4f83-9a28-ee1eaf530d2a</td>\n",
       "      <td>02f48daf-a10c-426f-9855-07c32dc230e5</td>\n",
       "      <td>2021-07-12 08:24:28.914000+00:00</td>\n",
       "      <td>8</td>\n",
       "      <td>26</td>\n",
       "      <td>1.00</td>\n",
       "      <td>34</td>\n",
       "      <td>0.5000</td>\n",
       "      <td>0.0</td>\n",
       "    </tr>\n",
       "    <tr>\n",
       "      <th>17136</th>\n",
       "      <td>01b690ce-dc1f-4f83-9a28-ee1eaf530d2a</td>\n",
       "      <td>02f48daf-a10c-426f-9855-07c32dc230e5</td>\n",
       "      <td>2021-07-12 08:24:34.348000+00:00</td>\n",
       "      <td>8</td>\n",
       "      <td>4</td>\n",
       "      <td>1.00</td>\n",
       "      <td>35</td>\n",
       "      <td>0.5000</td>\n",
       "      <td>0.0</td>\n",
       "    </tr>\n",
       "    <tr>\n",
       "      <th>17137</th>\n",
       "      <td>01b690ce-dc1f-4f83-9a28-ee1eaf530d2a</td>\n",
       "      <td>02f48daf-a10c-426f-9855-07c32dc230e5</td>\n",
       "      <td>2021-07-12 08:24:38.766000+00:00</td>\n",
       "      <td>8</td>\n",
       "      <td>3</td>\n",
       "      <td>1.00</td>\n",
       "      <td>36</td>\n",
       "      <td>0.7500</td>\n",
       "      <td>0.0</td>\n",
       "    </tr>\n",
       "    <tr>\n",
       "      <th>17138</th>\n",
       "      <td>01b690ce-dc1f-4f83-9a28-ee1eaf530d2a</td>\n",
       "      <td>02f48daf-a10c-426f-9855-07c32dc230e5</td>\n",
       "      <td>2021-07-12 08:24:46.804000+00:00</td>\n",
       "      <td>8</td>\n",
       "      <td>7</td>\n",
       "      <td>0.00</td>\n",
       "      <td>37</td>\n",
       "      <td>0.7500</td>\n",
       "      <td>0.0</td>\n",
       "    </tr>\n",
       "    <tr>\n",
       "      <th>17139</th>\n",
       "      <td>01b690ce-dc1f-4f83-9a28-ee1eaf530d2a</td>\n",
       "      <td>02f48daf-a10c-426f-9855-07c32dc230e5</td>\n",
       "      <td>2021-07-12 08:24:51.348000+00:00</td>\n",
       "      <td>8</td>\n",
       "      <td>2</td>\n",
       "      <td>1.00</td>\n",
       "      <td>38</td>\n",
       "      <td>0.7500</td>\n",
       "      <td>0.0</td>\n",
       "    </tr>\n",
       "    <tr>\n",
       "      <th>17140</th>\n",
       "      <td>01b690ce-dc1f-4f83-9a28-ee1eaf530d2a</td>\n",
       "      <td>02f48daf-a10c-426f-9855-07c32dc230e5</td>\n",
       "      <td>2021-07-12 08:24:59.191000+00:00</td>\n",
       "      <td>8</td>\n",
       "      <td>6</td>\n",
       "      <td>1.00</td>\n",
       "      <td>39</td>\n",
       "      <td>0.7500</td>\n",
       "      <td>0.0</td>\n",
       "    </tr>\n",
       "    <tr>\n",
       "      <th>17141</th>\n",
       "      <td>01b690ce-dc1f-4f83-9a28-ee1eaf530d2a</td>\n",
       "      <td>02f48daf-a10c-426f-9855-07c32dc230e5</td>\n",
       "      <td>2021-07-12 08:25:04.526000+00:00</td>\n",
       "      <td>8</td>\n",
       "      <td>4</td>\n",
       "      <td>1.00</td>\n",
       "      <td>40</td>\n",
       "      <td>0.7500</td>\n",
       "      <td>0.0</td>\n",
       "    </tr>\n",
       "    <tr>\n",
       "      <th>17142</th>\n",
       "      <td>01b690ce-dc1f-4f83-9a28-ee1eaf530d2a</td>\n",
       "      <td>02f48daf-a10c-426f-9855-07c32dc230e5</td>\n",
       "      <td>2021-07-12 08:25:16.314000+00:00</td>\n",
       "      <td>8</td>\n",
       "      <td>10</td>\n",
       "      <td>0.00</td>\n",
       "      <td>41</td>\n",
       "      <td>0.7500</td>\n",
       "      <td>0.0</td>\n",
       "    </tr>\n",
       "    <tr>\n",
       "      <th>17144</th>\n",
       "      <td>01b690ce-dc1f-4f83-9a28-ee1eaf530d2a</td>\n",
       "      <td>02f48daf-a10c-426f-9855-07c32dc230e5</td>\n",
       "      <td>2021-07-12 08:25:22.723000+00:00</td>\n",
       "      <td>8</td>\n",
       "      <td>4</td>\n",
       "      <td>1.00</td>\n",
       "      <td>42</td>\n",
       "      <td>0.7500</td>\n",
       "      <td>0.0</td>\n",
       "    </tr>\n",
       "    <tr>\n",
       "      <th>17146</th>\n",
       "      <td>01b690ce-dc1f-4f83-9a28-ee1eaf530d2a</td>\n",
       "      <td>02f48daf-a10c-426f-9855-07c32dc230e5</td>\n",
       "      <td>2021-07-12 08:25:27.959000+00:00</td>\n",
       "      <td>8</td>\n",
       "      <td>2</td>\n",
       "      <td>1.00</td>\n",
       "      <td>43</td>\n",
       "      <td>0.7500</td>\n",
       "      <td>0.0</td>\n",
       "    </tr>\n",
       "    <tr>\n",
       "      <th>17147</th>\n",
       "      <td>01b690ce-dc1f-4f83-9a28-ee1eaf530d2a</td>\n",
       "      <td>02f48daf-a10c-426f-9855-07c32dc230e5</td>\n",
       "      <td>2021-07-12 08:25:35.130000+00:00</td>\n",
       "      <td>8</td>\n",
       "      <td>6</td>\n",
       "      <td>1.00</td>\n",
       "      <td>44</td>\n",
       "      <td>0.7500</td>\n",
       "      <td>0.0</td>\n",
       "    </tr>\n",
       "    <tr>\n",
       "      <th>17149</th>\n",
       "      <td>01b690ce-dc1f-4f83-9a28-ee1eaf530d2a</td>\n",
       "      <td>02f48daf-a10c-426f-9855-07c32dc230e5</td>\n",
       "      <td>2021-07-12 08:25:43.691000+00:00</td>\n",
       "      <td>8</td>\n",
       "      <td>7</td>\n",
       "      <td>1.00</td>\n",
       "      <td>45</td>\n",
       "      <td>1.0000</td>\n",
       "      <td>1.0</td>\n",
       "    </tr>\n",
       "    <tr>\n",
       "      <th>60535</th>\n",
       "      <td>01b690ce-dc1f-4f83-9a28-ee1eaf530d2a</td>\n",
       "      <td>06949cc0-cbbb-4d18-98ba-a0ba7b255077</td>\n",
       "      <td>2021-08-12 03:18:07.035000+00:00</td>\n",
       "      <td>3</td>\n",
       "      <td>14</td>\n",
       "      <td>0.00</td>\n",
       "      <td>1</td>\n",
       "      <td>NaN</td>\n",
       "      <td>NaN</td>\n",
       "    </tr>\n",
       "    <tr>\n",
       "      <th>60538</th>\n",
       "      <td>01b690ce-dc1f-4f83-9a28-ee1eaf530d2a</td>\n",
       "      <td>06949cc0-cbbb-4d18-98ba-a0ba7b255077</td>\n",
       "      <td>2021-08-12 03:18:14.644000+00:00</td>\n",
       "      <td>3</td>\n",
       "      <td>6</td>\n",
       "      <td>1.00</td>\n",
       "      <td>2</td>\n",
       "      <td>NaN</td>\n",
       "      <td>NaN</td>\n",
       "    </tr>\n",
       "    <tr>\n",
       "      <th>60539</th>\n",
       "      <td>01b690ce-dc1f-4f83-9a28-ee1eaf530d2a</td>\n",
       "      <td>06949cc0-cbbb-4d18-98ba-a0ba7b255077</td>\n",
       "      <td>2021-08-12 03:18:18.652000+00:00</td>\n",
       "      <td>3</td>\n",
       "      <td>2</td>\n",
       "      <td>0.00</td>\n",
       "      <td>3</td>\n",
       "      <td>NaN</td>\n",
       "      <td>NaN</td>\n",
       "    </tr>\n",
       "    <tr>\n",
       "      <th>60548</th>\n",
       "      <td>01b690ce-dc1f-4f83-9a28-ee1eaf530d2a</td>\n",
       "      <td>06949cc0-cbbb-4d18-98ba-a0ba7b255077</td>\n",
       "      <td>2021-08-12 03:18:45.820000+00:00</td>\n",
       "      <td>3</td>\n",
       "      <td>4</td>\n",
       "      <td>0.00</td>\n",
       "      <td>4</td>\n",
       "      <td>0.2500</td>\n",
       "      <td>0.0</td>\n",
       "    </tr>\n",
       "    <tr>\n",
       "      <th>60551</th>\n",
       "      <td>01b690ce-dc1f-4f83-9a28-ee1eaf530d2a</td>\n",
       "      <td>06949cc0-cbbb-4d18-98ba-a0ba7b255077</td>\n",
       "      <td>2021-08-12 03:18:53.876000+00:00</td>\n",
       "      <td>3</td>\n",
       "      <td>3</td>\n",
       "      <td>0.00</td>\n",
       "      <td>5</td>\n",
       "      <td>0.2500</td>\n",
       "      <td>0.0</td>\n",
       "    </tr>\n",
       "  </tbody>\n",
       "</table>\n",
       "</div>"
      ],
      "text/plain": [
       "                                 student_id  \\\n",
       "13086  01b690ce-dc1f-4f83-9a28-ee1eaf530d2a   \n",
       "13108  01b690ce-dc1f-4f83-9a28-ee1eaf530d2a   \n",
       "13120  01b690ce-dc1f-4f83-9a28-ee1eaf530d2a   \n",
       "13129  01b690ce-dc1f-4f83-9a28-ee1eaf530d2a   \n",
       "14045  01b690ce-dc1f-4f83-9a28-ee1eaf530d2a   \n",
       "14049  01b690ce-dc1f-4f83-9a28-ee1eaf530d2a   \n",
       "16805  01b690ce-dc1f-4f83-9a28-ee1eaf530d2a   \n",
       "16808  01b690ce-dc1f-4f83-9a28-ee1eaf530d2a   \n",
       "16810  01b690ce-dc1f-4f83-9a28-ee1eaf530d2a   \n",
       "16811  01b690ce-dc1f-4f83-9a28-ee1eaf530d2a   \n",
       "16812  01b690ce-dc1f-4f83-9a28-ee1eaf530d2a   \n",
       "16814  01b690ce-dc1f-4f83-9a28-ee1eaf530d2a   \n",
       "16816  01b690ce-dc1f-4f83-9a28-ee1eaf530d2a   \n",
       "16817  01b690ce-dc1f-4f83-9a28-ee1eaf530d2a   \n",
       "16819  01b690ce-dc1f-4f83-9a28-ee1eaf530d2a   \n",
       "16821  01b690ce-dc1f-4f83-9a28-ee1eaf530d2a   \n",
       "16823  01b690ce-dc1f-4f83-9a28-ee1eaf530d2a   \n",
       "16824  01b690ce-dc1f-4f83-9a28-ee1eaf530d2a   \n",
       "17112  01b690ce-dc1f-4f83-9a28-ee1eaf530d2a   \n",
       "17114  01b690ce-dc1f-4f83-9a28-ee1eaf530d2a   \n",
       "17115  01b690ce-dc1f-4f83-9a28-ee1eaf530d2a   \n",
       "17117  01b690ce-dc1f-4f83-9a28-ee1eaf530d2a   \n",
       "17119  01b690ce-dc1f-4f83-9a28-ee1eaf530d2a   \n",
       "17120  01b690ce-dc1f-4f83-9a28-ee1eaf530d2a   \n",
       "17121  01b690ce-dc1f-4f83-9a28-ee1eaf530d2a   \n",
       "17122  01b690ce-dc1f-4f83-9a28-ee1eaf530d2a   \n",
       "17124  01b690ce-dc1f-4f83-9a28-ee1eaf530d2a   \n",
       "17126  01b690ce-dc1f-4f83-9a28-ee1eaf530d2a   \n",
       "17128  01b690ce-dc1f-4f83-9a28-ee1eaf530d2a   \n",
       "17129  01b690ce-dc1f-4f83-9a28-ee1eaf530d2a   \n",
       "17131  01b690ce-dc1f-4f83-9a28-ee1eaf530d2a   \n",
       "17132  01b690ce-dc1f-4f83-9a28-ee1eaf530d2a   \n",
       "17133  01b690ce-dc1f-4f83-9a28-ee1eaf530d2a   \n",
       "17135  01b690ce-dc1f-4f83-9a28-ee1eaf530d2a   \n",
       "17136  01b690ce-dc1f-4f83-9a28-ee1eaf530d2a   \n",
       "17137  01b690ce-dc1f-4f83-9a28-ee1eaf530d2a   \n",
       "17138  01b690ce-dc1f-4f83-9a28-ee1eaf530d2a   \n",
       "17139  01b690ce-dc1f-4f83-9a28-ee1eaf530d2a   \n",
       "17140  01b690ce-dc1f-4f83-9a28-ee1eaf530d2a   \n",
       "17141  01b690ce-dc1f-4f83-9a28-ee1eaf530d2a   \n",
       "17142  01b690ce-dc1f-4f83-9a28-ee1eaf530d2a   \n",
       "17144  01b690ce-dc1f-4f83-9a28-ee1eaf530d2a   \n",
       "17146  01b690ce-dc1f-4f83-9a28-ee1eaf530d2a   \n",
       "17147  01b690ce-dc1f-4f83-9a28-ee1eaf530d2a   \n",
       "17149  01b690ce-dc1f-4f83-9a28-ee1eaf530d2a   \n",
       "60535  01b690ce-dc1f-4f83-9a28-ee1eaf530d2a   \n",
       "60538  01b690ce-dc1f-4f83-9a28-ee1eaf530d2a   \n",
       "60539  01b690ce-dc1f-4f83-9a28-ee1eaf530d2a   \n",
       "60548  01b690ce-dc1f-4f83-9a28-ee1eaf530d2a   \n",
       "60551  01b690ce-dc1f-4f83-9a28-ee1eaf530d2a   \n",
       "\n",
       "                                activity_id                                ts  \\\n",
       "13086  02f48daf-a10c-426f-9855-07c32dc230e5  2021-07-12 01:25:35.360000+00:00   \n",
       "13108  02f48daf-a10c-426f-9855-07c32dc230e5  2021-07-12 01:25:44.569000+00:00   \n",
       "13120  02f48daf-a10c-426f-9855-07c32dc230e5  2021-07-12 01:25:50.016000+00:00   \n",
       "13129  02f48daf-a10c-426f-9855-07c32dc230e5  2021-07-12 01:25:55.486000+00:00   \n",
       "14045  02f48daf-a10c-426f-9855-07c32dc230e5  2021-07-12 01:32:59.759000+00:00   \n",
       "14049  02f48daf-a10c-426f-9855-07c32dc230e5  2021-07-12 01:33:03.832000+00:00   \n",
       "16805  02f48daf-a10c-426f-9855-07c32dc230e5  2021-07-12 08:01:17.969000+00:00   \n",
       "16808  02f48daf-a10c-426f-9855-07c32dc230e5  2021-07-12 08:01:26.169000+00:00   \n",
       "16810  02f48daf-a10c-426f-9855-07c32dc230e5  2021-07-12 08:01:33.130000+00:00   \n",
       "16811  02f48daf-a10c-426f-9855-07c32dc230e5  2021-07-12 08:01:36.729000+00:00   \n",
       "16812  02f48daf-a10c-426f-9855-07c32dc230e5  2021-07-12 08:01:39.816000+00:00   \n",
       "16814  02f48daf-a10c-426f-9855-07c32dc230e5  2021-07-12 08:01:43.501000+00:00   \n",
       "16816  02f48daf-a10c-426f-9855-07c32dc230e5  2021-07-12 08:01:47.938000+00:00   \n",
       "16817  02f48daf-a10c-426f-9855-07c32dc230e5  2021-07-12 08:01:50.520000+00:00   \n",
       "16819  02f48daf-a10c-426f-9855-07c32dc230e5  2021-07-12 08:01:53.163000+00:00   \n",
       "16821  02f48daf-a10c-426f-9855-07c32dc230e5  2021-07-12 08:01:56.321000+00:00   \n",
       "16823  02f48daf-a10c-426f-9855-07c32dc230e5  2021-07-12 08:02:00.430000+00:00   \n",
       "16824  02f48daf-a10c-426f-9855-07c32dc230e5  2021-07-12 08:02:09.770000+00:00   \n",
       "17112  02f48daf-a10c-426f-9855-07c32dc230e5  2021-07-12 08:23:04.157000+00:00   \n",
       "17114  02f48daf-a10c-426f-9855-07c32dc230e5  2021-07-12 08:23:09.093000+00:00   \n",
       "17115  02f48daf-a10c-426f-9855-07c32dc230e5  2021-07-12 08:23:12.877000+00:00   \n",
       "17117  02f48daf-a10c-426f-9855-07c32dc230e5  2021-07-12 08:23:16.521000+00:00   \n",
       "17119  02f48daf-a10c-426f-9855-07c32dc230e5  2021-07-12 08:23:20.321000+00:00   \n",
       "17120  02f48daf-a10c-426f-9855-07c32dc230e5  2021-07-12 08:23:23.372000+00:00   \n",
       "17121  02f48daf-a10c-426f-9855-07c32dc230e5  2021-07-12 08:23:27.629000+00:00   \n",
       "17122  02f48daf-a10c-426f-9855-07c32dc230e5  2021-07-12 08:23:30.767000+00:00   \n",
       "17124  02f48daf-a10c-426f-9855-07c32dc230e5  2021-07-12 08:23:33.900000+00:00   \n",
       "17126  02f48daf-a10c-426f-9855-07c32dc230e5  2021-07-12 08:23:40.674000+00:00   \n",
       "17128  02f48daf-a10c-426f-9855-07c32dc230e5  2021-07-12 08:23:46.231000+00:00   \n",
       "17129  02f48daf-a10c-426f-9855-07c32dc230e5  2021-07-12 08:23:49.766000+00:00   \n",
       "17131  02f48daf-a10c-426f-9855-07c32dc230e5  2021-07-12 08:23:53.745000+00:00   \n",
       "17132  02f48daf-a10c-426f-9855-07c32dc230e5  2021-07-12 08:23:56.856000+00:00   \n",
       "17133  02f48daf-a10c-426f-9855-07c32dc230e5  2021-07-12 08:24:00.716000+00:00   \n",
       "17135  02f48daf-a10c-426f-9855-07c32dc230e5  2021-07-12 08:24:28.914000+00:00   \n",
       "17136  02f48daf-a10c-426f-9855-07c32dc230e5  2021-07-12 08:24:34.348000+00:00   \n",
       "17137  02f48daf-a10c-426f-9855-07c32dc230e5  2021-07-12 08:24:38.766000+00:00   \n",
       "17138  02f48daf-a10c-426f-9855-07c32dc230e5  2021-07-12 08:24:46.804000+00:00   \n",
       "17139  02f48daf-a10c-426f-9855-07c32dc230e5  2021-07-12 08:24:51.348000+00:00   \n",
       "17140  02f48daf-a10c-426f-9855-07c32dc230e5  2021-07-12 08:24:59.191000+00:00   \n",
       "17141  02f48daf-a10c-426f-9855-07c32dc230e5  2021-07-12 08:25:04.526000+00:00   \n",
       "17142  02f48daf-a10c-426f-9855-07c32dc230e5  2021-07-12 08:25:16.314000+00:00   \n",
       "17144  02f48daf-a10c-426f-9855-07c32dc230e5  2021-07-12 08:25:22.723000+00:00   \n",
       "17146  02f48daf-a10c-426f-9855-07c32dc230e5  2021-07-12 08:25:27.959000+00:00   \n",
       "17147  02f48daf-a10c-426f-9855-07c32dc230e5  2021-07-12 08:25:35.130000+00:00   \n",
       "17149  02f48daf-a10c-426f-9855-07c32dc230e5  2021-07-12 08:25:43.691000+00:00   \n",
       "60535  06949cc0-cbbb-4d18-98ba-a0ba7b255077  2021-08-12 03:18:07.035000+00:00   \n",
       "60538  06949cc0-cbbb-4d18-98ba-a0ba7b255077  2021-08-12 03:18:14.644000+00:00   \n",
       "60539  06949cc0-cbbb-4d18-98ba-a0ba7b255077  2021-08-12 03:18:18.652000+00:00   \n",
       "60548  06949cc0-cbbb-4d18-98ba-a0ba7b255077  2021-08-12 03:18:45.820000+00:00   \n",
       "60551  06949cc0-cbbb-4d18-98ba-a0ba7b255077  2021-08-12 03:18:53.876000+00:00   \n",
       "\n",
       "       heure  duration  score  interaction_num  score_at_inter  mastery  \n",
       "13086      1        10   0.00                1             NaN      NaN  \n",
       "13108      1         5   0.00                2             NaN      NaN  \n",
       "13120      1         3   0.00                3             NaN      NaN  \n",
       "13129      1         3   0.00                4          0.0000      0.0  \n",
       "14045      1         3   0.00                5          0.0000      0.0  \n",
       "14049      1         3   0.00                6          0.0000      0.0  \n",
       "16805      8         9   0.00                7          0.0000      0.0  \n",
       "16808      8         6   0.00                8          0.0000      0.0  \n",
       "16810      8         3   0.00                9          0.0000      0.0  \n",
       "16811      8         2   0.00               10          0.0000      0.0  \n",
       "16812      8         2   0.00               11          0.0000      0.0  \n",
       "16814      8         2   0.00               12          0.0000      0.0  \n",
       "16816      8         3   0.00               13          0.0000      0.0  \n",
       "16817      8         1   0.00               14          0.0000      0.0  \n",
       "16819      8         1   0.00               15          0.0000      0.0  \n",
       "16821      8         2   0.00               16          0.0000      0.0  \n",
       "16823      8         2   0.00               17          0.0000      0.0  \n",
       "16824      8         7   0.75               18          0.1875      0.0  \n",
       "17112      8        11   1.00               19          0.4375      0.0  \n",
       "17114      8         3   0.00               20          0.4375      0.0  \n",
       "17115      8         1   0.00               21          0.4375      0.0  \n",
       "17117      8         2   0.00               22          0.2500      0.0  \n",
       "17119      8         2   0.00               23          0.0000      0.0  \n",
       "17120      8         1   0.00               24          0.0000      0.0  \n",
       "17121      8         2   0.00               25          0.0000      0.0  \n",
       "17122      8         2   1.00               26          0.2500      0.0  \n",
       "17124      8         2   0.00               27          0.2500      0.0  \n",
       "17126      8         5   0.25               28          0.3125      0.0  \n",
       "17128      8         3   0.00               29          0.3125      0.0  \n",
       "17129      8         1   0.00               30          0.0625      0.0  \n",
       "17131      8         3   1.00               31          0.3125      0.0  \n",
       "17132      8         2   0.00               32          0.2500      0.0  \n",
       "17133      8         3   0.00               33          0.2500      0.0  \n",
       "17135      8        26   1.00               34          0.5000      0.0  \n",
       "17136      8         4   1.00               35          0.5000      0.0  \n",
       "17137      8         3   1.00               36          0.7500      0.0  \n",
       "17138      8         7   0.00               37          0.7500      0.0  \n",
       "17139      8         2   1.00               38          0.7500      0.0  \n",
       "17140      8         6   1.00               39          0.7500      0.0  \n",
       "17141      8         4   1.00               40          0.7500      0.0  \n",
       "17142      8        10   0.00               41          0.7500      0.0  \n",
       "17144      8         4   1.00               42          0.7500      0.0  \n",
       "17146      8         2   1.00               43          0.7500      0.0  \n",
       "17147      8         6   1.00               44          0.7500      0.0  \n",
       "17149      8         7   1.00               45          1.0000      1.0  \n",
       "60535      3        14   0.00                1             NaN      NaN  \n",
       "60538      3         6   1.00                2             NaN      NaN  \n",
       "60539      3         2   0.00                3             NaN      NaN  \n",
       "60548      3         4   0.00                4          0.2500      0.0  \n",
       "60551      3         3   0.00                5          0.2500      0.0  "
      ]
     },
     "execution_count": 21,
     "metadata": {},
     "output_type": "execute_result"
    }
   ],
   "source": [
    "round(df_sample_lite.head(50),5)"
   ]
  },
  {
   "cell_type": "markdown",
   "id": "a7e1945f",
   "metadata": {},
   "source": [
    "Dans cet exemple, on voit l'élève finit par maitriser la première activité (première dans la liste d'ordonnancement) au bout de son 45e exercice !"
   ]
  },
  {
   "cell_type": "markdown",
   "id": "828f06f1",
   "metadata": {},
   "source": [
    "# --------------------------------------------------------------------------------------------------------------"
   ]
  },
  {
   "cell_type": "markdown",
   "id": "64037b92",
   "metadata": {},
   "source": [
    "Généralisons les traitements effectués sur un élève, précédemment, à l'ensemble de tous les élèves :"
   ]
  },
  {
   "cell_type": "code",
   "execution_count": 22,
   "id": "0afa6290",
   "metadata": {
    "scrolled": true
   },
   "outputs": [
    {
     "data": {
      "text/html": [
       "<div>\n",
       "<style scoped>\n",
       "    .dataframe tbody tr th:only-of-type {\n",
       "        vertical-align: middle;\n",
       "    }\n",
       "\n",
       "    .dataframe tbody tr th {\n",
       "        vertical-align: top;\n",
       "    }\n",
       "\n",
       "    .dataframe thead th {\n",
       "        text-align: right;\n",
       "    }\n",
       "</style>\n",
       "<table border=\"1\" class=\"dataframe\">\n",
       "  <thead>\n",
       "    <tr style=\"text-align: right;\">\n",
       "      <th></th>\n",
       "      <th>student_id</th>\n",
       "      <th>activity_id</th>\n",
       "      <th>ts</th>\n",
       "      <th>heure</th>\n",
       "      <th>duration</th>\n",
       "      <th>score</th>\n",
       "      <th>interaction_num</th>\n",
       "      <th>score_at_inter</th>\n",
       "      <th>mastery</th>\n",
       "    </tr>\n",
       "  </thead>\n",
       "  <tbody>\n",
       "    <tr>\n",
       "      <th>25500</th>\n",
       "      <td>009cb4d4-9776-4e66-b657-16b1b542fe83</td>\n",
       "      <td>02f48daf-a10c-426f-9855-07c32dc230e5</td>\n",
       "      <td>2021-07-23 03:02:17.471000+00:00</td>\n",
       "      <td>3</td>\n",
       "      <td>53</td>\n",
       "      <td>1.0</td>\n",
       "      <td>1</td>\n",
       "      <td>NaN</td>\n",
       "      <td>NaN</td>\n",
       "    </tr>\n",
       "    <tr>\n",
       "      <th>25548</th>\n",
       "      <td>009cb4d4-9776-4e66-b657-16b1b542fe83</td>\n",
       "      <td>02f48daf-a10c-426f-9855-07c32dc230e5</td>\n",
       "      <td>2021-07-23 03:02:39.206000+00:00</td>\n",
       "      <td>3</td>\n",
       "      <td>18</td>\n",
       "      <td>1.0</td>\n",
       "      <td>2</td>\n",
       "      <td>NaN</td>\n",
       "      <td>NaN</td>\n",
       "    </tr>\n",
       "    <tr>\n",
       "      <th>25602</th>\n",
       "      <td>009cb4d4-9776-4e66-b657-16b1b542fe83</td>\n",
       "      <td>02f48daf-a10c-426f-9855-07c32dc230e5</td>\n",
       "      <td>2021-07-23 03:03:04.739000+00:00</td>\n",
       "      <td>3</td>\n",
       "      <td>8</td>\n",
       "      <td>1.0</td>\n",
       "      <td>3</td>\n",
       "      <td>NaN</td>\n",
       "      <td>NaN</td>\n",
       "    </tr>\n",
       "    <tr>\n",
       "      <th>25768</th>\n",
       "      <td>009cb4d4-9776-4e66-b657-16b1b542fe83</td>\n",
       "      <td>02f48daf-a10c-426f-9855-07c32dc230e5</td>\n",
       "      <td>2021-07-23 03:04:33.096000+00:00</td>\n",
       "      <td>3</td>\n",
       "      <td>7</td>\n",
       "      <td>1.0</td>\n",
       "      <td>4</td>\n",
       "      <td>1.0</td>\n",
       "      <td>1.0</td>\n",
       "    </tr>\n",
       "    <tr>\n",
       "      <th>39632</th>\n",
       "      <td>009cb4d4-9776-4e66-b657-16b1b542fe83</td>\n",
       "      <td>06949cc0-cbbb-4d18-98ba-a0ba7b255077</td>\n",
       "      <td>2021-07-30 03:28:15.029000+00:00</td>\n",
       "      <td>3</td>\n",
       "      <td>7</td>\n",
       "      <td>1.0</td>\n",
       "      <td>1</td>\n",
       "      <td>NaN</td>\n",
       "      <td>NaN</td>\n",
       "    </tr>\n",
       "  </tbody>\n",
       "</table>\n",
       "</div>"
      ],
      "text/plain": [
       "                                 student_id  \\\n",
       "25500  009cb4d4-9776-4e66-b657-16b1b542fe83   \n",
       "25548  009cb4d4-9776-4e66-b657-16b1b542fe83   \n",
       "25602  009cb4d4-9776-4e66-b657-16b1b542fe83   \n",
       "25768  009cb4d4-9776-4e66-b657-16b1b542fe83   \n",
       "39632  009cb4d4-9776-4e66-b657-16b1b542fe83   \n",
       "\n",
       "                                activity_id                                ts  \\\n",
       "25500  02f48daf-a10c-426f-9855-07c32dc230e5  2021-07-23 03:02:17.471000+00:00   \n",
       "25548  02f48daf-a10c-426f-9855-07c32dc230e5  2021-07-23 03:02:39.206000+00:00   \n",
       "25602  02f48daf-a10c-426f-9855-07c32dc230e5  2021-07-23 03:03:04.739000+00:00   \n",
       "25768  02f48daf-a10c-426f-9855-07c32dc230e5  2021-07-23 03:04:33.096000+00:00   \n",
       "39632  06949cc0-cbbb-4d18-98ba-a0ba7b255077  2021-07-30 03:28:15.029000+00:00   \n",
       "\n",
       "       heure  duration  score  interaction_num  score_at_inter  mastery  \n",
       "25500      3        53    1.0                1             NaN      NaN  \n",
       "25548      3        18    1.0                2             NaN      NaN  \n",
       "25602      3         8    1.0                3             NaN      NaN  \n",
       "25768      3         7    1.0                4             1.0      1.0  \n",
       "39632      3         7    1.0                1             NaN      NaN  "
      ]
     },
     "execution_count": 22,
     "metadata": {},
     "output_type": "execute_result"
    }
   ],
   "source": [
    "#suppression des variables non serviables\n",
    "df_adfrac = df_adfrac.drop([\"exercise_id\", \"module_id\", \"objective_id\"], axis = 1) \n",
    "\n",
    "#reorganisation des colonnes\n",
    "df_adfrac = df_adfrac[[\"student_id\", \"activity_id\", \"ts\", \"heure\", \"duration\", \"score\"]] \n",
    "\n",
    "#trie des observations suivants id_étudiant + id_activité\n",
    "df_adfrac = df_adfrac.sort_values(by = [\"student_id\", \"activity_id\", \"ts\"]) \n",
    "\n",
    "#calcul du nombre d'interaction entre un élève et une activité lors d'une interaction\n",
    "interaction_col = df_adfrac.groupby([\"student_id\",\"activity_id\"]).cumcount() + 1 \n",
    "\n",
    "#construction de la variable numéro d'interaction\n",
    "df_adfrac[\"interaction_num\"] = interaction_col \n",
    "\n",
    "#calcul du score à une interaction\n",
    "score_at_inter = df_adfrac.groupby([\"student_id\",\"activity_id\"])['score'].rolling(window=4).mean() \n",
    "\n",
    "#construction de la variable score à une interaction\n",
    "df_adfrac[\"score_at_inter\"] = score_at_inter.values \n",
    "\n",
    "#définition de la matrise d'une activité à une interaction\n",
    "df_adfrac[\"mastery\"] = np.where(df_adfrac['score_at_inter']>=success_rate, 1, 0)\n",
    "\n",
    "#maîtrise non définies pour les interactions 1,2,3 et 4 par définition\n",
    "df_adfrac.loc[df_adfrac['score_at_inter'].isna(), \"mastery\"] = np.nan \n",
    "\n",
    "#affichons les cinq premières lignes du jeu de données total de adaptivfraction\n",
    "df_adfrac.head(5) "
   ]
  },
  {
   "cell_type": "markdown",
   "id": "cf14fc88",
   "metadata": {},
   "source": [
    "## Construction de l'étiquette (target) : Suite"
   ]
  },
  {
   "cell_type": "markdown",
   "id": "b846e707",
   "metadata": {},
   "source": [
    "Fixons ou calculons l'interaction limite à partir de laquelle on décidera qu'un élève fait une persistance improductive. Dans les papiers expérimentaux (en particulier ASSISTment), ce seuil est fixé à 10.\n",
    "\n",
    "Pour cela, représentons le graphe cumulé de l'évolution de la matrise d'une activité donné en fonction du nombre d'interactions."
   ]
  },
  {
   "cell_type": "code",
   "execution_count": 23,
   "id": "c381bd86",
   "metadata": {
    "scrolled": false
   },
   "outputs": [
    {
     "data": {
      "image/png": "[encoded data removed]",
      "text/plain": [
       "<Figure size 800x400 with 1 Axes>"
      ]
     },
     "metadata": {
      "needs_background": "light"
     },
     "output_type": "display_data"
    }
   ],
   "source": [
    "#regroupement par intéraction du nombre de maitrise par éléve\n",
    "a = df_adfrac.groupby([\"interaction_num\"]).mastery.sum()\n",
    "\n",
    "#proportion cumulée de maitrise\n",
    "b = a.cumsum()*100/a.sum()\n",
    "\n",
    "#visualisation graphique\n",
    "plt.figure(dpi = 80, figsize = (10,5))\n",
    "b.plot(color = \"blue\")\n",
    "plt.xlabel(\"Opportunité de pratique\")\n",
    "plt.ylabel(\"Probabilité qu'un élève maîtrise l'activité (%)\")\n",
    "plt.title(\"Distribution de la matrise en fonction du nombre d'interaction\")\n",
    "plt.grid()\n",
    "plt.show()"
   ]
  },
  {
   "cell_type": "markdown",
   "id": "fa591a40",
   "metadata": {},
   "source": [
    "Question : est-il crédible de fixer le seuil du wheel-spinning à 10 comme dans les autres papiers ? \n",
    "Réponse : Cela n'est pas vraisemblable puisque sur ce graphique, l'insensibilité de variation se perçoit à partir de la 20e interaction approximativement.\n",
    "\n",
    "Nous fixons donc la limite d'interaction pour définir le WS, sur l'application adaptive fraction, à 20 ! (Nota ce résultat à été observé, sur le tout premier dump de données sur lequel nous avons travaillé)"
   ]
  },
  {
   "cell_type": "code",
   "execution_count": 24,
   "id": "df229317",
   "metadata": {},
   "outputs": [],
   "source": [
    "ws_interact_seuil = 20"
   ]
  },
  {
   "cell_type": "markdown",
   "id": "fd2d3747",
   "metadata": {},
   "source": [
    "Somme toutes, un élève fait du WS sur une activité s'il n'a pas matrisé l'activité au bout de 20 itérations."
   ]
  },
  {
   "cell_type": "markdown",
   "id": "8afe1344",
   "metadata": {},
   "source": [
    "Avant de continuer, supprimons déjà toutes les interactions de plus de ce seuil, ici toutes les interactions de num au moins 21 :"
   ]
  },
  {
   "cell_type": "code",
   "execution_count": 25,
   "id": "85e001aa",
   "metadata": {},
   "outputs": [],
   "source": [
    "data = df_adfrac.drop(df_adfrac[df_adfrac.interaction_num > ws_interact_seuil].index)"
   ]
  },
  {
   "cell_type": "markdown",
   "id": "a13272b0",
   "metadata": {},
   "source": [
    "Affichons la répartition des élèves en fonction des interactions (un élève peut être compté plusieurs fois) : "
   ]
  },
  {
   "cell_type": "code",
   "execution_count": 26,
   "id": "b4dcf23f",
   "metadata": {},
   "outputs": [
    {
     "data": {
      "text/plain": [
       "1     4980\n",
       "2     4908\n",
       "3     4797\n",
       "4     4690\n",
       "5     2439\n",
       "6     2058\n",
       "7     1740\n",
       "8     1497\n",
       "9     1289\n",
       "10    1132\n",
       "11    1002\n",
       "12     909\n",
       "13     838\n",
       "14     782\n",
       "15     726\n",
       "16     687\n",
       "17     655\n",
       "18     623\n",
       "19     422\n",
       "20     396\n",
       "Name: interaction_num, dtype: int64"
      ]
     },
     "execution_count": 26,
     "metadata": {},
     "output_type": "execute_result"
    }
   ],
   "source": [
    "data[\"interaction_num\"].value_counts()"
   ]
  },
  {
   "cell_type": "markdown",
   "id": "78c7cf5d",
   "metadata": {},
   "source": [
    "<b>Calculons maintenant le wheel-spinning </b> :\n",
    "\n",
    "Selon le seuil fixé, écartons les apprenants ayant moins de ce seuil et n'ayant pas matrisé l'activité, mais gardons ceux ayant maîtrisé. Les individus supprimés sont les indéterminés\n",
    "\n",
    "Ensuite, sur les 20 dernières interactions :\n",
    "    si score moyen sur les quatres derniers exos < success_rate alors WS\n",
    "    sinon pas WS."
   ]
  },
  {
   "cell_type": "markdown",
   "id": "6adec6e2",
   "metadata": {},
   "source": [
    "Suppression des indéterminations :"
   ]
  },
  {
   "cell_type": "code",
   "execution_count": 27,
   "id": "f3fc93fd",
   "metadata": {},
   "outputs": [],
   "source": [
    "def ws_manage(data, id_eleve, id_activite):\n",
    "    \n",
    "    \"\"\"\n",
    "    Cette fonction retourne, à partir d'un data frame d'itérations, d'un id d'élève et d'un id d'une activité, \n",
    "    le nombre d'interactions et l'état de maîtrise ou non de cette activité par l'élève \n",
    "    \"\"\"\n",
    "    df = data[(data[\"student_id\"] == id_eleve) & (data[\"activity_id\"] == id_activite)]\n",
    "    nombre_interaction = df.shape[0]\n",
    "    master = df[\"mastery\"].sum()\n",
    "    return id_eleve, id_activite, nombre_interaction, master"
   ]
  },
  {
   "cell_type": "markdown",
   "id": "d245ca1a",
   "metadata": {},
   "source": [
    "Voici un test de la fonction : "
   ]
  },
  {
   "cell_type": "code",
   "execution_count": 28,
   "id": "4ffde0fa",
   "metadata": {},
   "outputs": [
    {
     "data": {
      "text/html": [
       "<div>\n",
       "<style scoped>\n",
       "    .dataframe tbody tr th:only-of-type {\n",
       "        vertical-align: middle;\n",
       "    }\n",
       "\n",
       "    .dataframe tbody tr th {\n",
       "        vertical-align: top;\n",
       "    }\n",
       "\n",
       "    .dataframe thead th {\n",
       "        text-align: right;\n",
       "    }\n",
       "</style>\n",
       "<table border=\"1\" class=\"dataframe\">\n",
       "  <thead>\n",
       "    <tr style=\"text-align: right;\">\n",
       "      <th></th>\n",
       "      <th>student_id</th>\n",
       "      <th>activity_id</th>\n",
       "      <th>ts</th>\n",
       "      <th>heure</th>\n",
       "      <th>duration</th>\n",
       "      <th>score</th>\n",
       "      <th>interaction_num</th>\n",
       "      <th>score_at_inter</th>\n",
       "      <th>mastery</th>\n",
       "    </tr>\n",
       "  </thead>\n",
       "  <tbody>\n",
       "    <tr>\n",
       "      <th>15998</th>\n",
       "      <td>fdc9c7e1-5ae2-4de2-bc90-07fcc0194605</td>\n",
       "      <td>02f48daf-a10c-426f-9855-07c32dc230e5</td>\n",
       "      <td>2021-07-12 02:59:21.672000+00:00</td>\n",
       "      <td>2</td>\n",
       "      <td>6</td>\n",
       "      <td>1.0</td>\n",
       "      <td>1</td>\n",
       "      <td>NaN</td>\n",
       "      <td>NaN</td>\n",
       "    </tr>\n",
       "    <tr>\n",
       "      <th>16006</th>\n",
       "      <td>fdc9c7e1-5ae2-4de2-bc90-07fcc0194605</td>\n",
       "      <td>02f48daf-a10c-426f-9855-07c32dc230e5</td>\n",
       "      <td>2021-07-12 02:59:27.599000+00:00</td>\n",
       "      <td>2</td>\n",
       "      <td>4</td>\n",
       "      <td>1.0</td>\n",
       "      <td>2</td>\n",
       "      <td>NaN</td>\n",
       "      <td>NaN</td>\n",
       "    </tr>\n",
       "    <tr>\n",
       "      <th>16011</th>\n",
       "      <td>fdc9c7e1-5ae2-4de2-bc90-07fcc0194605</td>\n",
       "      <td>02f48daf-a10c-426f-9855-07c32dc230e5</td>\n",
       "      <td>2021-07-12 02:59:34.883000+00:00</td>\n",
       "      <td>2</td>\n",
       "      <td>5</td>\n",
       "      <td>1.0</td>\n",
       "      <td>3</td>\n",
       "      <td>NaN</td>\n",
       "      <td>NaN</td>\n",
       "    </tr>\n",
       "    <tr>\n",
       "      <th>16015</th>\n",
       "      <td>fdc9c7e1-5ae2-4de2-bc90-07fcc0194605</td>\n",
       "      <td>02f48daf-a10c-426f-9855-07c32dc230e5</td>\n",
       "      <td>2021-07-12 02:59:39.938000+00:00</td>\n",
       "      <td>2</td>\n",
       "      <td>3</td>\n",
       "      <td>1.0</td>\n",
       "      <td>4</td>\n",
       "      <td>1.0</td>\n",
       "      <td>1.0</td>\n",
       "    </tr>\n",
       "  </tbody>\n",
       "</table>\n",
       "</div>"
      ],
      "text/plain": [
       "                                 student_id  \\\n",
       "15998  fdc9c7e1-5ae2-4de2-bc90-07fcc0194605   \n",
       "16006  fdc9c7e1-5ae2-4de2-bc90-07fcc0194605   \n",
       "16011  fdc9c7e1-5ae2-4de2-bc90-07fcc0194605   \n",
       "16015  fdc9c7e1-5ae2-4de2-bc90-07fcc0194605   \n",
       "\n",
       "                                activity_id                                ts  \\\n",
       "15998  02f48daf-a10c-426f-9855-07c32dc230e5  2021-07-12 02:59:21.672000+00:00   \n",
       "16006  02f48daf-a10c-426f-9855-07c32dc230e5  2021-07-12 02:59:27.599000+00:00   \n",
       "16011  02f48daf-a10c-426f-9855-07c32dc230e5  2021-07-12 02:59:34.883000+00:00   \n",
       "16015  02f48daf-a10c-426f-9855-07c32dc230e5  2021-07-12 02:59:39.938000+00:00   \n",
       "\n",
       "       heure  duration  score  interaction_num  score_at_inter  mastery  \n",
       "15998      2         6    1.0                1             NaN      NaN  \n",
       "16006      2         4    1.0                2             NaN      NaN  \n",
       "16011      2         5    1.0                3             NaN      NaN  \n",
       "16015      2         3    1.0                4             1.0      1.0  "
      ]
     },
     "execution_count": 28,
     "metadata": {},
     "output_type": "execute_result"
    }
   ],
   "source": [
    "data[((data[\"student_id\"] == \"fdc9c7e1-5ae2-4de2-bc90-07fcc0194605\") & (data[\"activity_id\"] == \"02f48daf-a10c-426f-9855-07c32dc230e5\"))]"
   ]
  },
  {
   "cell_type": "code",
   "execution_count": 29,
   "id": "18217ff3",
   "metadata": {
    "scrolled": true
   },
   "outputs": [
    {
     "data": {
      "text/plain": [
       "('fdc9c7e1-5ae2-4de2-bc90-07fcc0194605',\n",
       " '02f48daf-a10c-426f-9855-07c32dc230e5',\n",
       " 4,\n",
       " 1.0)"
      ]
     },
     "execution_count": 29,
     "metadata": {},
     "output_type": "execute_result"
    }
   ],
   "source": [
    "ws_manage(data, \"fdc9c7e1-5ae2-4de2-bc90-07fcc0194605\", \"02f48daf-a10c-426f-9855-07c32dc230e5\")"
   ]
  },
  {
   "cell_type": "markdown",
   "id": "b1eca57d",
   "metadata": {},
   "source": [
    "Créons une copie du jeu de données d'interactions manipulé jusqu'à cette étape avant d'écarter les indéterminations :"
   ]
  },
  {
   "cell_type": "code",
   "execution_count": 30,
   "id": "6c56cdc0",
   "metadata": {},
   "outputs": [],
   "source": [
    "data_copy = data.copy()"
   ]
  },
  {
   "cell_type": "markdown",
   "id": "291bba47",
   "metadata": {},
   "source": [
    "Shape du jeu de données avec indéterminations : 36570 interactions et 9 colonnes"
   ]
  },
  {
   "cell_type": "code",
   "execution_count": 31,
   "id": "e3b85b3f",
   "metadata": {},
   "outputs": [
    {
     "data": {
      "text/plain": [
       "(36570, 9)"
      ]
     },
     "execution_count": 31,
     "metadata": {},
     "output_type": "execute_result"
    }
   ],
   "source": [
    "data.shape"
   ]
  },
  {
   "cell_type": "code",
   "execution_count": 32,
   "id": "243541cd",
   "metadata": {},
   "outputs": [],
   "source": [
    "#suppression des indéterminations\n",
    "\n",
    "liste_eleve = data[\"student_id\"].unique() #liste des identifiants uniques des élèves\n",
    "indetermination = [] #création d'une liste vide pour stocker les identifiants qui seront indéterminées\n",
    "\n",
    "##parcourir pour chaque étudiant la liste des interactions indéterminées et rajouter leur identification sur la liste vide\n",
    "for eleve in liste_eleve:\n",
    "    liste_activite = data_copy[data_copy[\"student_id\"] == eleve][\"activity_id\"].unique()\n",
    "\n",
    "    for activite in liste_activite:\n",
    "        infos_eleve = ws_manage(data_copy, eleve, activite)\n",
    "        if ((infos_eleve[2] < 20) & (infos_eleve[3] == 0)):\n",
    "            indetermination.append(infos_eleve[0] + infos_eleve[1])\n",
    "            \n",
    "##processus de suppression des indéterminations\n",
    "data_copy[\"key\"] = data_copy[\"student_id\"] + data_copy[\"activity_id\"]\n",
    "data_copy = data_copy.set_index(\"key\")\n",
    "data_copy = data_copy.drop(data_copy.loc[indetermination, ].index)\n",
    "data_copy = data_copy.reset_index()\n",
    "del data_copy[\"key\"]"
   ]
  },
  {
   "cell_type": "markdown",
   "id": "0edb003d",
   "metadata": {},
   "source": [
    "Shape du jeu de données sans indéterminations : 33070 interactions et 9 colonnes"
   ]
  },
  {
   "cell_type": "code",
   "execution_count": 33,
   "id": "574b3cba",
   "metadata": {
    "scrolled": false
   },
   "outputs": [
    {
     "data": {
      "text/plain": [
       "(33070, 9)"
      ]
     },
     "execution_count": 33,
     "metadata": {},
     "output_type": "execute_result"
    }
   ],
   "source": [
    "data_copy.shape"
   ]
  },
  {
   "cell_type": "markdown",
   "id": "704cf873",
   "metadata": {},
   "source": [
    "Maintenant que les indéterminations sont écartées, calculons le wheel-spinning :"
   ]
  },
  {
   "cell_type": "code",
   "execution_count": 34,
   "id": "5389df6f",
   "metadata": {
    "scrolled": false
   },
   "outputs": [],
   "source": [
    "#création de la colonne wheel-spinning sur chaque interaction élève-activité\n",
    "data_copy = data_copy.sort_values(by = ['student_id', 'activity_id', 'ts'])\n",
    "data_copy[\"key\"] = data_copy[\"student_id\"] + data_copy[\"activity_id\"]\n",
    "data_copy[\"wheel-spinning\"] = None\n",
    "\n",
    "#calcul du wheel-spinning sur chaque unité élève-activité\n",
    "w = data_copy.groupby([\"student_id\", \"activity_id\"]).agg({\"mastery\" : \"sum\"}).reset_index()\n",
    "w[\"wheel-spinning\"] = np.where(w[\"mastery\"] >= 1, 0, 1)\n",
    "w[\"key\"] = w[\"student_id\"] + w[\"activity_id\"]\n",
    "\n",
    "#réplication des résultats du wheel-spinning de chaque unité élève-activité sur l'ensemble des interactions concernées\n",
    "for key in w[\"key\"].unique():\n",
    "    data_copy.loc[data_copy[\"key\"] == key, \"wheel-spinning\"] = w.loc[w[\"key\"] == key, \"wheel-spinning\"].values[0]\n",
    "\n",
    "#supression de la colonne de \"merge\"\n",
    "del data_copy[\"key\"]"
   ]
  },
  {
   "cell_type": "code",
   "execution_count": 35,
   "id": "1bb95885",
   "metadata": {},
   "outputs": [
    {
     "data": {
      "image/png": "[encoded data removed]",
      "text/plain": [
       "<Figure size 720x480 with 1 Axes>"
      ]
     },
     "metadata": {},
     "output_type": "display_data"
    }
   ],
   "source": [
    "plt.figure(dpi = 120)\n",
    "labels = [\"Non WS\", \"WS\"]\n",
    "w[\"wheel-spinning\"].value_counts(\"normalize = True\").plot(kind = \"pie\", autopct='%1.1f%%', shadow=True, labels=labels)\n",
    "plt.axis('off')\n",
    "plt.show()\n",
    "del w"
   ]
  },
  {
   "cell_type": "markdown",
   "id": "fe3452d4",
   "metadata": {},
   "source": [
    "Il y a un déséquilibre du target $\\Longrightarrow$ imbalanced binary classification !"
   ]
  },
  {
   "cell_type": "code",
   "execution_count": 36,
   "id": "efc4d6ee",
   "metadata": {},
   "outputs": [
    {
     "data": {
      "text/html": [
       "<div>\n",
       "<style scoped>\n",
       "    .dataframe tbody tr th:only-of-type {\n",
       "        vertical-align: middle;\n",
       "    }\n",
       "\n",
       "    .dataframe tbody tr th {\n",
       "        vertical-align: top;\n",
       "    }\n",
       "\n",
       "    .dataframe thead th {\n",
       "        text-align: right;\n",
       "    }\n",
       "</style>\n",
       "<table border=\"1\" class=\"dataframe\">\n",
       "  <thead>\n",
       "    <tr style=\"text-align: right;\">\n",
       "      <th></th>\n",
       "      <th>student_id</th>\n",
       "      <th>activity_id</th>\n",
       "      <th>ts</th>\n",
       "      <th>heure</th>\n",
       "      <th>duration</th>\n",
       "      <th>score</th>\n",
       "      <th>interaction_num</th>\n",
       "      <th>score_at_inter</th>\n",
       "      <th>mastery</th>\n",
       "      <th>wheel-spinning</th>\n",
       "    </tr>\n",
       "  </thead>\n",
       "  <tbody>\n",
       "    <tr>\n",
       "      <th>0</th>\n",
       "      <td>009cb4d4-9776-4e66-b657-16b1b542fe83</td>\n",
       "      <td>02f48daf-a10c-426f-9855-07c32dc230e5</td>\n",
       "      <td>2021-07-23 03:02:17.471000+00:00</td>\n",
       "      <td>3</td>\n",
       "      <td>53</td>\n",
       "      <td>1.0</td>\n",
       "      <td>1</td>\n",
       "      <td>NaN</td>\n",
       "      <td>NaN</td>\n",
       "      <td>0</td>\n",
       "    </tr>\n",
       "    <tr>\n",
       "      <th>1</th>\n",
       "      <td>009cb4d4-9776-4e66-b657-16b1b542fe83</td>\n",
       "      <td>02f48daf-a10c-426f-9855-07c32dc230e5</td>\n",
       "      <td>2021-07-23 03:02:39.206000+00:00</td>\n",
       "      <td>3</td>\n",
       "      <td>18</td>\n",
       "      <td>1.0</td>\n",
       "      <td>2</td>\n",
       "      <td>NaN</td>\n",
       "      <td>NaN</td>\n",
       "      <td>0</td>\n",
       "    </tr>\n",
       "    <tr>\n",
       "      <th>2</th>\n",
       "      <td>009cb4d4-9776-4e66-b657-16b1b542fe83</td>\n",
       "      <td>02f48daf-a10c-426f-9855-07c32dc230e5</td>\n",
       "      <td>2021-07-23 03:03:04.739000+00:00</td>\n",
       "      <td>3</td>\n",
       "      <td>8</td>\n",
       "      <td>1.0</td>\n",
       "      <td>3</td>\n",
       "      <td>NaN</td>\n",
       "      <td>NaN</td>\n",
       "      <td>0</td>\n",
       "    </tr>\n",
       "    <tr>\n",
       "      <th>3</th>\n",
       "      <td>009cb4d4-9776-4e66-b657-16b1b542fe83</td>\n",
       "      <td>02f48daf-a10c-426f-9855-07c32dc230e5</td>\n",
       "      <td>2021-07-23 03:04:33.096000+00:00</td>\n",
       "      <td>3</td>\n",
       "      <td>7</td>\n",
       "      <td>1.0</td>\n",
       "      <td>4</td>\n",
       "      <td>1.0</td>\n",
       "      <td>1.0</td>\n",
       "      <td>0</td>\n",
       "    </tr>\n",
       "    <tr>\n",
       "      <th>4</th>\n",
       "      <td>009cb4d4-9776-4e66-b657-16b1b542fe83</td>\n",
       "      <td>06949cc0-cbbb-4d18-98ba-a0ba7b255077</td>\n",
       "      <td>2021-07-30 03:28:15.029000+00:00</td>\n",
       "      <td>3</td>\n",
       "      <td>7</td>\n",
       "      <td>1.0</td>\n",
       "      <td>1</td>\n",
       "      <td>NaN</td>\n",
       "      <td>NaN</td>\n",
       "      <td>0</td>\n",
       "    </tr>\n",
       "  </tbody>\n",
       "</table>\n",
       "</div>"
      ],
      "text/plain": [
       "                             student_id                           activity_id  \\\n",
       "0  009cb4d4-9776-4e66-b657-16b1b542fe83  02f48daf-a10c-426f-9855-07c32dc230e5   \n",
       "1  009cb4d4-9776-4e66-b657-16b1b542fe83  02f48daf-a10c-426f-9855-07c32dc230e5   \n",
       "2  009cb4d4-9776-4e66-b657-16b1b542fe83  02f48daf-a10c-426f-9855-07c32dc230e5   \n",
       "3  009cb4d4-9776-4e66-b657-16b1b542fe83  02f48daf-a10c-426f-9855-07c32dc230e5   \n",
       "4  009cb4d4-9776-4e66-b657-16b1b542fe83  06949cc0-cbbb-4d18-98ba-a0ba7b255077   \n",
       "\n",
       "                                 ts  heure  duration  score  interaction_num  \\\n",
       "0  2021-07-23 03:02:17.471000+00:00      3        53    1.0                1   \n",
       "1  2021-07-23 03:02:39.206000+00:00      3        18    1.0                2   \n",
       "2  2021-07-23 03:03:04.739000+00:00      3         8    1.0                3   \n",
       "3  2021-07-23 03:04:33.096000+00:00      3         7    1.0                4   \n",
       "4  2021-07-30 03:28:15.029000+00:00      3         7    1.0                1   \n",
       "\n",
       "   score_at_inter  mastery wheel-spinning  \n",
       "0             NaN      NaN              0  \n",
       "1             NaN      NaN              0  \n",
       "2             NaN      NaN              0  \n",
       "3             1.0      1.0              0  \n",
       "4             NaN      NaN              0  "
      ]
     },
     "execution_count": 36,
     "metadata": {},
     "output_type": "execute_result"
    }
   ],
   "source": [
    "#affichons les cinq premières lignes du jeu de données traité\n",
    "data_copy.head()"
   ]
  },
  {
   "cell_type": "markdown",
   "id": "53e28291",
   "metadata": {},
   "source": [
    "## Prédiction du wheel-spinning"
   ]
  },
  {
   "cell_type": "markdown",
   "id": "355203e6",
   "metadata": {},
   "source": [
    "Nous prédisons le Wheel-Spinning, dans ce qui suit, par apprentissage profond. Plus précisement, nous employons des modèles de réseaux de neurones récurrents de type LSTM."
   ]
  },
  {
   "cell_type": "markdown",
   "id": "a393a334",
   "metadata": {},
   "source": [
    "### Préparation des données pour le LSTM"
   ]
  },
  {
   "cell_type": "markdown",
   "id": "0d4f8077",
   "metadata": {},
   "source": [
    "Extraction de la matrice de design $X$ et du vecteur d'étiquette $y$ :"
   ]
  },
  {
   "cell_type": "code",
   "execution_count": 37,
   "id": "e5288a46",
   "metadata": {},
   "outputs": [],
   "source": [
    "X = data_copy[[\"heure\", \"duration\", \"score\"]].values\n",
    "y = data_copy[[\"student_id\", \"activity_id\", \"wheel-spinning\"]].drop_duplicates()[\"wheel-spinning\"].values.astype(\"float32\")"
   ]
  },
  {
   "cell_type": "markdown",
   "id": "eff0019a",
   "metadata": {},
   "source": [
    "Transformation des données en des séquences d'interactions de longeur 20 :"
   ]
  },
  {
   "cell_type": "code",
   "execution_count": 38,
   "id": "b21529fe",
   "metadata": {},
   "outputs": [],
   "source": [
    "liste_eleve = list(data_copy[\"student_id\"].unique())\n",
    "X_sequence = []\n",
    "\n",
    "for eleve in liste_eleve:\n",
    "    d = data_copy[(data_copy[\"student_id\"] == eleve)]\n",
    "    liste_activite = list(d[\"activity_id\"].unique())\n",
    "    \n",
    "    for activite in liste_activite:\n",
    "        d2 = d[d[\"activity_id\"] == activite]\n",
    "        une_sequence_X = d2[[\"heure\", \"duration\", \"score\"]].values\n",
    "        X_sequence.append(une_sequence_X)\n",
    "\n",
    "X_seq = pad_sequences(X_sequence, maxlen=20, dtype=\"float32\", padding=\"post\", value = -10.)"
   ]
  },
  {
   "cell_type": "markdown",
   "id": "fcc4d66b",
   "metadata": {},
   "source": [
    "Création d'un jeu de données d'entrainement et de test :"
   ]
  },
  {
   "cell_type": "code",
   "execution_count": 39,
   "id": "25c27aa9",
   "metadata": {},
   "outputs": [],
   "source": [
    "poids_test_data = 0.2\n",
    "X_train, X_test, y_train, y_test = train_test_split(X_seq, y, test_size = poids_test_data)"
   ]
  },
  {
   "cell_type": "markdown",
   "id": "aca68481",
   "metadata": {},
   "source": [
    "Normalisation des features quantitatives :"
   ]
  },
  {
   "cell_type": "code",
   "execution_count": 40,
   "id": "029d2d9a",
   "metadata": {},
   "outputs": [],
   "source": [
    "#train\n",
    "X_train_copy = np.copy(X_train)\n",
    "train_reshape = X_train_copy.reshape(-1, X_train.shape[-1])\n",
    "colonnes = [\"col\" + str(i) for i in range(1, X_train.shape[2] + 1)]\n",
    "train_df = pd.DataFrame(train_reshape, columns = colonnes)\n",
    "train_df_no_mask = train_df[train_df[\"col1\"] != -10]\n",
    "scaler = StandardScaler()\n",
    "train_df_no_mask_norm = scaler.fit_transform(train_df_no_mask.values)\n",
    "train_df.iloc[train_df_no_mask.index,] = train_df_no_mask_norm\n",
    "X_train = train_df.values.reshape(X_train.shape)\n",
    "\n",
    "#test\n",
    "X_test_copy = np.copy(X_test)\n",
    "test_reshape = X_test_copy.reshape(-1, X_test.shape[-1])\n",
    "colonnes = [\"col\" + str(i) for i in range(1, X_test.shape[2] + 1)]\n",
    "test_df = pd.DataFrame(test_reshape, columns = colonnes)\n",
    "test_df_no_mask = test_df[test_df[\"col1\"] != -10]\n",
    "test_df_no_mask_norm = scaler.transform(test_df_no_mask.values)\n",
    "test_df.iloc[test_df_no_mask.index,] = test_df_no_mask_norm\n",
    "X_test = test_df.values.reshape(X_test.shape)"
   ]
  },
  {
   "cell_type": "markdown",
   "id": "279d7cd5",
   "metadata": {},
   "source": [
    "### LSTM tunning"
   ]
  },
  {
   "cell_type": "markdown",
   "id": "195395c6",
   "metadata": {},
   "source": [
    "Construisons à présent l'architecture de notre réseau de neurones artificiels :"
   ]
  },
  {
   "cell_type": "markdown",
   "id": "8e543518",
   "metadata": {},
   "source": [
    "- architecture du modèle de réseaux de neurones artificiels :"
   ]
  },
  {
   "cell_type": "code",
   "execution_count": 41,
   "id": "dae0ddcb",
   "metadata": {},
   "outputs": [],
   "source": [
    "def build_model():\n",
    "    model = Sequential()\n",
    "    model.add(Masking(mask_value = -10.))\n",
    "    model.add(LSTM(64, input_shape = (20, 3), return_sequences = True))\n",
    "    model.add(LSTM(32, return_sequences = False))\n",
    "    model.add(Dense(1, activation='sigmoid'))\n",
    "    model.compile(loss = 'binary_crossentropy', optimizer='adam', metrics=[\"accuracy\", Recall(name = \"recall\"), Precision(name = \"precision\")])\n",
    "    return model"
   ]
  },
  {
   "cell_type": "markdown",
   "id": "e2c78353",
   "metadata": {},
   "source": [
    "- voici un exemple de calcul de l'opérateur LSTM sur un tenseur de nombre notre jeu de données d'entrainement :"
   ]
  },
  {
   "cell_type": "code",
   "execution_count": 42,
   "id": "acf95746",
   "metadata": {},
   "outputs": [
    {
     "name": "stdout",
     "output_type": "stream",
     "text": [
      "On firt sample of training data \n",
      "\n",
      "LSTM computing =  tf.Tensor(\n",
      "[-0.05658558 -0.03386578 -0.03490989 -0.00904555  0.00911966 -0.09084429\n",
      "  0.09134036  0.01396993 -0.04736669 -0.07713458 -0.2457903   0.03558758\n",
      " -0.16548383 -0.10256788 -0.01679109  0.11747889 -0.08193975  0.04093007\n",
      " -0.08278444 -0.11193979  0.04379886 -0.07520771 -0.08975775 -0.06908397\n",
      "  0.08603553  0.13573886  0.23615351  0.05114957 -0.00713791  0.04211088\n",
      "  0.05518506 -0.05135101], shape=(32,), dtype=float32) \n",
      "\n",
      "Output = tf.Tensor([0.47343248], shape=(1,), dtype=float32)\n"
     ]
    }
   ],
   "source": [
    "lstm_1 = LSTM(64, input_shape = (20, 3), return_sequences = True)\n",
    "lstm_2 = LSTM(32, return_sequences = False)\n",
    "dense_binary = Dense(1, activation='sigmoid')\n",
    "lstm = lstm_2(lstm_1(X_train))\n",
    "output = dense_binary(lstm)\n",
    "print(\"On firt sample of training data \\n\\nLSTM computing = \", lstm[0], \"\\n\\nOutput =\",  output[0])"
   ]
  },
  {
   "cell_type": "markdown",
   "id": "697306bb",
   "metadata": {},
   "source": [
    "- entraînement du réseau par validation croisée de k folds (jeu de données de taille faible)"
   ]
  },
  {
   "cell_type": "code",
   "execution_count": 43,
   "id": "276ac8ce",
   "metadata": {
    "scrolled": true
   },
   "outputs": [
    {
     "name": "stdout",
     "output_type": "stream",
     "text": [
      "Traitement fold #0 : OK !\n",
      "Traitement fold #1 : OK !\n",
      "Traitement fold #2 : OK !\n",
      "Traitement fold #3 : OK !\n",
      "Traitement fold #4 : OK !\n"
     ]
    }
   ],
   "source": [
    "k = 5\n",
    "\n",
    "num_val_samples = len(X_train) // k\n",
    "num_epochs = 300\n",
    "all_rec_histories = []\n",
    "all_prec_histories = []\n",
    "all_acc_histories = []\n",
    "\n",
    "for i in range(k):\n",
    "    print(f\"Traitement fold #{i} : OK !\")\n",
    "    val_data = X_train[i * num_val_samples: (i + 1) * num_val_samples]\n",
    "    val_targets = y_train[i * num_val_samples: (i + 1) * num_val_samples]\n",
    "\n",
    "    partial_X_train = np.concatenate(\n",
    "        [X_train[:i * num_val_samples],\n",
    "         X_train[(i + 1) * num_val_samples:]],\n",
    "        axis=0)\n",
    "    \n",
    "    partial_y_train = np.concatenate(\n",
    "        [y_train[:i * num_val_samples],\n",
    "         y_train[(i + 1) * num_val_samples:]],\n",
    "        axis=0)\n",
    "    \n",
    "    model = build_model()\n",
    "    weights = {0:1, 1:100}\n",
    "    history = model.fit(partial_X_train, partial_y_train, epochs = num_epochs, batch_size = 256, class_weight = weights, verbose = 0)\n",
    "    \n",
    "    #rec_history = history.history[\"recall_m\"]\n",
    "    rec_history = history.history[\"recall\"]\n",
    "    all_rec_histories.append(rec_history)\n",
    "    \n",
    "    #prec_history = history.history[\"precision_m\"]\n",
    "    prec_history = history.history[\"precision\"]\n",
    "    all_prec_histories.append(prec_history)\n",
    "    \n",
    "    acc_history = history.history[\"accuracy\"]\n",
    "    all_acc_histories.append(acc_history)"
   ]
  },
  {
   "cell_type": "markdown",
   "id": "70de9d66",
   "metadata": {},
   "source": [
    "- visualisation du Recall sur les données de validation"
   ]
  },
  {
   "cell_type": "code",
   "execution_count": 44,
   "id": "92070551",
   "metadata": {},
   "outputs": [
    {
     "data": {
      "image/png": "[encoded data removed]",
      "text/plain": [
       "<Figure size 432x288 with 1 Axes>"
      ]
     },
     "metadata": {
      "needs_background": "light"
     },
     "output_type": "display_data"
    }
   ],
   "source": [
    "average_rec_history = [np.mean([x[i] for x in all_rec_histories]) for i in range(num_epochs)]\n",
    "plt.plot(range(1, len(average_rec_history) + 1), average_rec_history)\n",
    "plt.xlabel(\"Epochs\")\n",
    "plt.ylabel(\"Validation Recall\")\n",
    "plt.show()"
   ]
  },
  {
   "cell_type": "markdown",
   "id": "8821a1d7",
   "metadata": {},
   "source": [
    "- visualisation de la Precision sur les données de validation"
   ]
  },
  {
   "cell_type": "code",
   "execution_count": 45,
   "id": "18a74c20",
   "metadata": {
    "scrolled": true
   },
   "outputs": [
    {
     "data": {
      "image/png": "[encoded data removed]",
      "text/plain": [
       "<Figure size 432x288 with 1 Axes>"
      ]
     },
     "metadata": {
      "needs_background": "light"
     },
     "output_type": "display_data"
    }
   ],
   "source": [
    "average_prec_history = [np.mean([x[i] for x in all_prec_histories]) for i in range(num_epochs)]\n",
    "plt.plot(range(1, len(average_prec_history) + 1), average_prec_history)\n",
    "plt.xlabel(\"Epochs\")\n",
    "plt.ylabel(\"Validation Precision\")\n",
    "plt.show()"
   ]
  },
  {
   "cell_type": "markdown",
   "id": "cd47f7ff",
   "metadata": {},
   "source": [
    "- visualisation de l'Accuracy sur les données de validation"
   ]
  },
  {
   "cell_type": "code",
   "execution_count": 46,
   "id": "8ed70ab8",
   "metadata": {},
   "outputs": [
    {
     "data": {
      "image/png": "[encoded data removed]",
      "text/plain": [
       "<Figure size 432x288 with 1 Axes>"
      ]
     },
     "metadata": {
      "needs_background": "light"
     },
     "output_type": "display_data"
    }
   ],
   "source": [
    "average_acc_history = [np.mean([x[i] for x in all_acc_histories]) for i in range(num_epochs)]\n",
    "plt.plot(range(1, len(average_acc_history) + 1), average_acc_history)\n",
    "plt.xlabel(\"Epochs\")\n",
    "plt.ylabel(\"Validation Accuracy\")\n",
    "plt.show()"
   ]
  },
  {
   "cell_type": "markdown",
   "id": "9513dd30",
   "metadata": {},
   "source": [
    "- Etant donnée la nombre de data points et la variance, nous nous proposons de lisser les différentes courbes d'apprentissage :"
   ]
  },
  {
   "cell_type": "code",
   "execution_count": 47,
   "id": "788cdbef",
   "metadata": {},
   "outputs": [],
   "source": [
    "#fonction de lissage exponentielle\n",
    "def smooth_curve(points, factor = 0.9):\n",
    "    smoothed_points = []\n",
    "    for point in points:\n",
    "        if smoothed_points:\n",
    "            previous = smoothed_points[-1]\n",
    "            smoothed_points.append(previous * factor + point * (1 - factor))\n",
    "        else:\n",
    "            smoothed_points.append(point)\n",
    "    return smoothed_points"
   ]
  },
  {
   "cell_type": "code",
   "execution_count": 48,
   "id": "4f5b1944",
   "metadata": {},
   "outputs": [
    {
     "data": {
      "image/png": "[encoded data removed]",
      "text/plain": [
       "<Figure size 2250x750 with 1 Axes>"
      ]
     },
     "metadata": {
      "needs_background": "light"
     },
     "output_type": "display_data"
    },
    {
     "name": "stdout",
     "output_type": "stream",
     "text": [
      "Max :  0.9999972916341147 Epoch :  289\n"
     ]
    }
   ],
   "source": [
    "#lissage de la courbe d'apprentissage de Recall\n",
    "smoothed_rec_history = smooth_curve(average_rec_history[10:])\n",
    "plt.figure(dpi = 150, figsize = (15,5))\n",
    "plt.plot(range(1, len(smoothed_rec_history) + 1), smoothed_rec_history)\n",
    "plt.ylabel(\"Validation Recall Smoothed\")\n",
    "plt.xlabel(\"Epochs\")\n",
    "plt.show()\n",
    "print(\"Max : \", np.max(smoothed_rec_history), \"Epoch : \", np.argmax(smoothed_rec_history))"
   ]
  },
  {
   "cell_type": "code",
   "execution_count": 49,
   "id": "28b032e2",
   "metadata": {},
   "outputs": [
    {
     "data": {
      "image/png": "[encoded data removed]",
      "text/plain": [
       "<Figure size 2250x750 with 1 Axes>"
      ]
     },
     "metadata": {
      "needs_background": "light"
     },
     "output_type": "display_data"
    },
    {
     "name": "stdout",
     "output_type": "stream",
     "text": [
      "Max :  0.9628349012985001 Epoch :  289\n"
     ]
    }
   ],
   "source": [
    "#lissage de la courbe d'apprentissage de la Precision\n",
    "smoothed_prec_history = smooth_curve(average_prec_history[10:])\n",
    "plt.figure(dpi = 150, figsize = (15,5))\n",
    "plt.plot(range(1, len(smoothed_prec_history) + 1), smoothed_prec_history)\n",
    "plt.ylabel(\"Validation Precision Smoothed\")\n",
    "plt.xlabel(\"Epochs\")\n",
    "plt.show()\n",
    "print(\"Max : \", np.max(smoothed_prec_history), \"Epoch : \", np.argmax(smoothed_prec_history))"
   ]
  },
  {
   "cell_type": "code",
   "execution_count": 50,
   "id": "04eab618",
   "metadata": {},
   "outputs": [
    {
     "data": {
      "image/png": "[encoded data removed]",
      "text/plain": [
       "<Figure size 2250x750 with 1 Axes>"
      ]
     },
     "metadata": {
      "needs_background": "light"
     },
     "output_type": "display_data"
    },
    {
     "name": "stdout",
     "output_type": "stream",
     "text": [
      "Max :  0.9968740709414611 Epoch :  289\n"
     ]
    }
   ],
   "source": [
    "#lissage de la courbe d'apprentissage de l'Accuracy\n",
    "smoothed_acc_history = smooth_curve(average_acc_history[10:])\n",
    "plt.figure(dpi = 150, figsize = (15,5))\n",
    "plt.plot(range(1, len(smoothed_acc_history) + 1), smoothed_acc_history)\n",
    "plt.ylabel(\"Validation Accuracy Smoothed\")\n",
    "plt.xlabel(\"Epochs\")\n",
    "plt.show()\n",
    "print(\"Max : \", np.max(smoothed_acc_history), \"Epoch : \", np.argmax(smoothed_acc_history))"
   ]
  },
  {
   "cell_type": "markdown",
   "id": "f791b0f8",
   "metadata": {},
   "source": [
    "### Modèle final"
   ]
  },
  {
   "cell_type": "code",
   "execution_count": 51,
   "id": "54cd8c0b",
   "metadata": {},
   "outputs": [
    {
     "name": "stdout",
     "output_type": "stream",
     "text": [
      "Entrainement terminé !\n"
     ]
    }
   ],
   "source": [
    "opti_epoch = np.argmax(smoothed_prec_history)\n",
    "model = build_model()\n",
    "weights = {0:1, 1:100}\n",
    "model.fit(X_train, y_train, epochs = opti_epoch, batch_size = 256, class_weight = weights, verbose=0)\n",
    "print(\"Entrainement terminé !\")"
   ]
  },
  {
   "cell_type": "code",
   "execution_count": 52,
   "id": "b93fb117",
   "metadata": {},
   "outputs": [
    {
     "name": "stdout",
     "output_type": "stream",
     "text": [
      "111/111 [==============================] - 3s 8ms/step - loss: 0.0198 - accuracy: 0.9952 - recall: 1.0000 - precision: 0.9408\n",
      "Train perf :  [0.019767194986343384, 0.9951896071434021, 1.0, 0.9407665729522705]\n"
     ]
    }
   ],
   "source": [
    "print(\"Train perf : \", model.evaluate(X_train, y_train))"
   ]
  },
  {
   "cell_type": "markdown",
   "id": "277ef005",
   "metadata": {},
   "source": [
    "## Généralisation du modèle : Evaluation"
   ]
  },
  {
   "cell_type": "code",
   "execution_count": 53,
   "id": "55ad8f9f",
   "metadata": {},
   "outputs": [
    {
     "name": "stdout",
     "output_type": "stream",
     "text": [
      "28/28 [==============================] - 0s 13ms/step - loss: 0.0282 - accuracy: 0.9932 - recall: 0.9851 - precision: 0.9296\n"
     ]
    }
   ],
   "source": [
    "#Généralisation du modèle\n",
    "loss, test_acc_score, test_rec_score, test_prec_score = model.evaluate(X_test, y_test)"
   ]
  },
  {
   "cell_type": "code",
   "execution_count": 54,
   "id": "b59bf5e4",
   "metadata": {},
   "outputs": [],
   "source": [
    "#prédiction on test\n",
    "y_pred = model.predict(X_test)"
   ]
  },
  {
   "cell_type": "markdown",
   "id": "8ecac515",
   "metadata": {},
   "source": [
    "- Fonctions d'évaluation :"
   ]
  },
  {
   "cell_type": "code",
   "execution_count": 55,
   "id": "7b5da3ba",
   "metadata": {},
   "outputs": [],
   "source": [
    "def plot_accuracy(data_type_train = X_train, data_type_label = y_train):\n",
    "    acc = round(100*model.evaluate(data_type_train, data_type_label, verbose = 0)[1], 2)\n",
    "    plt.text(0.75, 0.65, str(acc) + \"%\" , size = 50, rotation=0,\n",
    "             ha=\"right\", va=\"top\",\n",
    "             bbox=dict(boxstyle=\"square\",\n",
    "                       ec=(1., 0.5, 0.5),\n",
    "                       fc=(1., 0.8, 0.8),\n",
    "                       )\n",
    "             )\n",
    "    plt.axis(\"off\")\n",
    "    plt.title(\"Accuracy  :\")\n",
    "    return plt.show()\n",
    "    \n",
    "def confusion_matrix_nn(prediction = model.predict(X_train), true_label = y_train, threshold = 0.5):  \n",
    "    \n",
    "    prediction_class = np.where(prediction > threshold, 1, 0)\n",
    "    a = true_label\n",
    "    b = prediction_class\n",
    "\n",
    "    cf_matrix = confusion_matrix(a, b)\n",
    "    group_names = [\"True Neg\",\"False Pos\",\"False Neg\",\"True Pos\"]\n",
    "    group_counts = [\"{0:0.0f}\".format(value) for value in cf_matrix.flatten()]\n",
    "    group_percentages = [\"{0:.2%}\".format(value) for value in cf_matrix.flatten()/np.sum(cf_matrix)]\n",
    "    labels = [f\"{v1}\\n{v2}\\n{v3}\" for v1, v2, v3 in zip(group_names,group_counts,group_percentages)]\n",
    "    labels = np.asarray(labels).reshape(2,2)\n",
    "    \n",
    "    plt.figure(figsize = (7,5), dpi = 80)\n",
    "    sns.heatmap(cf_matrix, annot = labels, fmt = \"\", cmap = 'Blues')\n",
    "    plt.xlabel(\"Prédictions\")\n",
    "    plt.ylabel(\"Réels\")\n",
    "    plt.title(\"Matrice de confusion\")\n",
    "    \n",
    "    return plt.show()\n",
    "\n",
    "\n",
    "def roc_curve_nn(prediction = model.predict(X_train), true_label = y_train):\n",
    "    \n",
    "    a = true_label\n",
    "    b = prediction.ravel()\n",
    "    \n",
    "    nn_fpr_keras, nn_tpr_keras, thresholds_1 = roc_curve(a, b)\n",
    "    auc_keras = auc(nn_fpr_keras, nn_tpr_keras)\n",
    "\n",
    "    plt.figure(dpi = 80, figsize = (7,5))\n",
    "    plt.plot(nn_fpr_keras, nn_tpr_keras, marker = '*', label='LSTM (AUC = %0.3f)' % auc_keras)\n",
    "    plt.xlabel(\"FPR\")\n",
    "    plt.ylabel(\"TPR\")\n",
    "    plt.title(\"Courbe ROC\")\n",
    "    plt.legend()\n",
    "    plt.grid()\n",
    "    return plt.show()\n",
    "\n",
    "def precision_recall_curve_nn(prediction = model.predict(X_train), true_label = y_train):\n",
    "    \n",
    "    a = true_label\n",
    "    b = prediction.ravel()\n",
    "    nn_r_keras, nn_pr_keras, thresholds_2 = precision_recall_curve(a, b)\n",
    "    \n",
    "    ap_keras = average_precision_score(a, b)\n",
    "    plt.figure(dpi = 80, figsize = (7,5))\n",
    "    plt.plot(nn_r_keras, nn_pr_keras, marker = '.', label='LSTM (Average Precision = %0.3f)' % ap_keras)\n",
    "    plt.xlabel(\"Recall\")\n",
    "    plt.ylabel(\"Precision\")\n",
    "    plt.title(\"Courbe Précision-Rappel\")\n",
    "    plt.legend()\n",
    "    plt.grid()\n",
    "    return plt.show()"
   ]
  },
  {
   "cell_type": "code",
   "execution_count": 56,
   "id": "da03cb01",
   "metadata": {
    "scrolled": false
   },
   "outputs": [
    {
     "data": {
      "image/png": "[encoded data removed]",
      "text/plain": [
       "<Figure size 432x288 with 1 Axes>"
      ]
     },
     "metadata": {
      "needs_background": "light"
     },
     "output_type": "display_data"
    },
    {
     "data": {
      "image/png": "[encoded data removed]",
      "text/plain": [
       "<Figure size 560x400 with 2 Axes>"
      ]
     },
     "metadata": {
      "needs_background": "light"
     },
     "output_type": "display_data"
    },
    {
     "data": {
      "image/png": "[encoded data removed]",
      "text/plain": [
       "<Figure size 560x400 with 1 Axes>"
      ]
     },
     "metadata": {
      "needs_background": "light"
     },
     "output_type": "display_data"
    },
    {
     "data": {
      "image/png": "[encoded data removed]",
      "text/plain": [
       "<Figure size 560x400 with 1 Axes>"
      ]
     },
     "metadata": {
      "needs_background": "light"
     },
     "output_type": "display_data"
    }
   ],
   "source": [
    "#matrice de confusion, courbe roc et courbe précision rappel sur le test\n",
    "plot_accuracy(X_test, y_test)\n",
    "confusion_matrix_nn(y_pred, y_test)\n",
    "roc_curve_nn(y_pred, y_test)\n",
    "precision_recall_curve_nn(y_pred, y_test)"
   ]
  },
  {
   "cell_type": "code",
   "execution_count": 57,
   "id": "f2874569",
   "metadata": {
    "scrolled": false
   },
   "outputs": [
    {
     "data": {
      "image/png": "[encoded data removed]",
      "text/plain": [
       "<Figure size 560x320 with 1 Axes>"
      ]
     },
     "metadata": {
      "needs_background": "light"
     },
     "output_type": "display_data"
    }
   ],
   "source": [
    "# Evaluation du modèle par interaction\n",
    "#------------------------------------------------------------------------\n",
    "\n",
    "precision = []\n",
    "recall = []\n",
    "threshold = 0.5\n",
    "a = y_test\n",
    "\n",
    "for trunc in range(1,21):\n",
    "    \n",
    "    X_test_trunc = X_test[:, :trunc, :]\n",
    "    X_test_trunc_pad = pad_sequences(X_test_trunc, maxlen=20, dtype=\"float32\", value = -10., padding=\"post\")\n",
    "\n",
    "    y_pred_trunc = model.predict(X_test_trunc_pad)\n",
    "    y_pred_trunc_class = np.where(y_pred_trunc > threshold, 1, 0)\n",
    "\n",
    "    b = y_pred_trunc_class\n",
    "    precision.append(precision_score(a,b))\n",
    "    recall.append(recall_score(a,b))\n",
    "        \n",
    "x = np.array(list(range(1,21)))\n",
    "y1 = np.array(precision)\n",
    "y2 = np.array(recall)\n",
    "\n",
    "plt.figure(dpi = 80, figsize = (7,4))\n",
    "plt.plot(x , y1, label = \"Precision\")\n",
    "plt.plot(x , y2, label = \"Recall\")\n",
    "plt.xlabel(\"Interaction\")\n",
    "plt.ylabel(\"Precision/Recall\")\n",
    "plt.title(\"Evaluation par interaction\")\n",
    "plt.xticks(range(1,21))\n",
    "plt.grid()\n",
    "plt.legend()\n",
    "plt.show() "
   ]
  }
 ],
 "metadata": {
  "kernelspec": {
   "display_name": "Python 3 (ipykernel)",
   "language": "python",
   "name": "python3"
  },
  "language_info": {
   "codemirror_mode": {
    "name": "ipython",
    "version": 3
   },
   "file_extension": ".py",
   "mimetype": "text/x-python",
   "name": "python",
   "nbconvert_exporter": "python",
   "pygments_lexer": "ipython3",
   "version": "3.9.7"
  }
 },
 "nbformat": 4,
 "nbformat_minor": 5
}
